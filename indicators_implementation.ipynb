{
  "nbformat": 4,
  "nbformat_minor": 0,
  "metadata": {
    "colab": {
      "name": "Untitled0.ipynb",
      "provenance": [],
      "toc_visible": true,
      "authorship_tag": "ABX9TyNDZcLiBXLSB/goEP6FXt4T"
    },
    "kernelspec": {
      "name": "python3",
      "display_name": "Python 3"
    },
    "language_info": {
      "name": "python"
    }
  },
  "cells": [
    {
      "cell_type": "code",
      "source": [
        "#import the libraries \n",
        "!pip install yfinance\n",
        "!pip install pandas_ta \n",
        "import yfinance as yf \n",
        "import pandas as pd\n",
        "import pandas_datareader.data as web\n",
        "import pandas_ta as ta\n",
        "import numpy as np\n",
        "from datetime import datetime\n",
        "import matplotlib.pyplot as plt\n",
        "plt.style.use('fivethirtyeight')\n",
        "yf.pdr_override()"
      ],
      "metadata": {
        "id": "fS0PXX5ftwCT"
      },
      "execution_count": null,
      "outputs": []
    },
    {
      "cell_type": "code",
      "source": [
        "\n",
        "#load the price data\n",
        "stocksymbols = ['BTC-USD', 'ETH-USD','BNB-USD','USDT-USD','SOL1-USD','HEX-USD','ADA-USD','XRP-USD','USDC-USD','LUNA1-USD',\n",
        "       'AVAX-USD', 'DOT-USD', 'DOGE-USD' , 'SHIB-USD', 'MATIC-USD','LTC-USD', 'LINK-USD', 'ALGO-USD', 'UNI1-USD','DAI-USD']\n",
        "startdate = datetime(2020,10,1)\n",
        "end_date = datetime.today()\n",
        "print(end_date)\n",
        "def getMyPortfolio(stocks = stocksymbols ,start = startdate , end = end_date):\n",
        "    data = web.get_data_yahoo(stocks , data_source='yahoo' , start = start ,end= end )\n",
        "    return data"
      ],
      "metadata": {
        "id": "TAxejwwWb7ey"
      },
      "execution_count": null,
      "outputs": []
    },
    {
      "cell_type": "code",
      "source": [
        "btc_data = getMyPortfolio('BTC-USD')\n",
        "eth_data = getMyPortfolio('ETH-USD')\n",
        "bnb_data = getMyPortfolio('BNB-USD')\n",
        "usdt_data = getMyPortfolio('USDT-USD')\n",
        "sol_data = getMyPortfolio('SOL1-USD')\n",
        "hex_data = getMyPortfolio('HEX-USD')\n",
        "ada_data = getMyPortfolio('ADA-USD')"
      ],
      "metadata": {
        "id": "Fgc9L95N0pdv"
      },
      "execution_count": null,
      "outputs": []
    },
    {
      "cell_type": "code",
      "source": [
        "xrp_data = getMyPortfolio('XRP-USD')\n",
        "usdc_data = getMyPortfolio('USDC-USD')\n",
        "luna1_data = getMyPortfolio('LUNA1-USD')\n",
        "avax_data = getMyPortfolio('AVAX-USD')\n",
        "dot_data = getMyPortfolio('DOT-USD')\n",
        "doge_data = getMyPortfolio('DOGE-USD')\n",
        "shib_data = getMyPortfolio('SHIB-USD')"
      ],
      "metadata": {
        "id": "vbkrQg2x6wNy"
      },
      "execution_count": null,
      "outputs": []
    },
    {
      "cell_type": "code",
      "source": [
        "matic_data = getMyPortfolio('MATIC-USD')\n",
        "ltc_data = getMyPortfolio('LTC-USD')\n",
        "link_data = getMyPortfolio('LINK-USD')\n",
        "algo_data = getMyPortfolio('ALGO-USD')\n",
        "uni_data = getMyPortfolio('UNI1-USD')\n",
        "dai_data = getMyPortfolio('DAI-USD')"
      ],
      "metadata": {
        "id": "NQWWM0b264nJ"
      },
      "execution_count": null,
      "outputs": []
    },
    {
      "cell_type": "code",
      "source": [
        "btc_data['SMA 30'] = ta.sma(btc_data['Close'],30)\n",
        "btc_data['SMA 100'] = ta.sma(btc_data['Close'],100)\n",
        "eth_data['SMA 30'] = ta.sma(eth_data['Close'],30)\n",
        "eth_data['SMA 100'] = ta.sma(eth_data['Close'],100)\n",
        "bnb_data['SMA 30'] = ta.sma(bnb_data['Close'],30)\n",
        "bnb_data['SMA 100'] = ta.sma(bnb_data['Close'],100)\n",
        "usdt_data['SMA 30'] = ta.sma(usdt_data['Close'],30)\n",
        "usdt_data['SMA 100'] = ta.sma(usdt_data['Close'],100)\n",
        "sol_data['SMA 30'] = ta.sma(sol_data['Close'],30)\n",
        "sol_data['SMA 100'] = ta.sma(sol_data['Close'],100)\n",
        "hex_data['SMA 30'] = ta.sma(hex_data['Close'],30)\n",
        "hex_data['SMA 100'] = ta.sma(hex_data['Close'],100)\n",
        "ada_data['SMA 30'] = ta.sma(ada_data['Close'],30)\n",
        "ada_data['SMA 100'] = ta.sma(ada_data['Close'],100)"
      ],
      "metadata": {
        "id": "dWVh1XVKB3V4"
      },
      "execution_count": 66,
      "outputs": []
    },
    {
      "cell_type": "code",
      "source": [
        "xrp_data['SMA 30'] = ta.sma(xrp_data['Close'],30)\n",
        "xrp_data['SMA 100'] = ta.sma(xrp_data['Close'],100)\n",
        "usdc_data['SMA 30'] = ta.sma(usdc_data['Close'],30)\n",
        "usdc_data['SMA 100'] = ta.sma(usdc_data['Close'],100)\n",
        "luna1_data['SMA 30'] = ta.sma(luna1_data['Close'],30)\n",
        "luna1_data['SMA 100'] = ta.sma(luna1_data['Close'],100)\n",
        "avax_data['SMA 30'] = ta.sma(avax_data['Close'],30)\n",
        "avax_data['SMA 100'] = ta.sma(avax_data['Close'],100)\n",
        "dot_data['SMA 30'] = ta.sma(dot_data['Close'],30)\n",
        "dot_data['SMA 100'] = ta.sma(dot_data['Close'],100)\n",
        "doge_data['SMA 30'] = ta.sma(doge_data['Close'],30)\n",
        "doge_data['SMA 100'] = ta.sma(doge_data['Close'],100)\n",
        "shib_data['SMA 30'] = ta.sma(shib_data['Close'],30)\n",
        "shib_data['SMA 100'] = ta.sma(shib_data['Close'],100)"
      ],
      "metadata": {
        "id": "7knZ5pZIpC1m"
      },
      "execution_count": 67,
      "outputs": []
    },
    {
      "cell_type": "code",
      "source": [
        "matic_data['SMA 30'] = ta.sma(matic_data['Close'],30)\n",
        "matic_data['SMA 100'] = ta.sma(matic_data['Close'],100)\n",
        "ltc_data['SMA 30'] = ta.sma(ltc_data['Close'],30)\n",
        "ltc_data['SMA 100'] = ta.sma(ltc_data['Close'],100)\n",
        "link_data['SMA 30'] = ta.sma(link_data['Close'],30)\n",
        "link_data['SMA 100'] = ta.sma(link_data['Close'],100)\n",
        "algo_data['SMA 30'] = ta.sma(algo_data['Close'],30)\n",
        "algo_data['SMA 100'] = ta.sma(algo_data['Close'],100)\n",
        "uni_data['SMA 30'] = ta.sma(uni_data['Close'],30)\n",
        "uni_data['SMA 100'] = ta.sma(uni_data['Close'],100)\n",
        "dai_data['SMA 30'] = ta.sma(dai_data['Close'],30)\n",
        "dai_data['SMA 100'] = ta.sma(dai_data['Close'],100)"
      ],
      "metadata": {
        "id": "SZ2BXsP2qGhP"
      },
      "execution_count": 77,
      "outputs": []
    },
    {
      "cell_type": "code",
      "source": [
        "def buy_sell_sma(data):\n",
        "    signalBuy = []\n",
        "    signalSell = []\n",
        "    position = False \n",
        "\n",
        "    for i in range(len(data)):\n",
        "        if data['SMA 30'][i] > data['SMA 100'][i]:\n",
        "            if position == False :\n",
        "                signalBuy.append(data['Adj Close'][i])\n",
        "                signalSell.append(np.nan)\n",
        "                position = True\n",
        "            else:\n",
        "                signalBuy.append(np.nan)\n",
        "                signalSell.append(np.nan)\n",
        "        elif data['SMA 30'][i] < data['SMA 100'][i]:\n",
        "            if position == True:\n",
        "                signalBuy.append(np.nan)\n",
        "                signalSell.append(data['Adj Close'][i])\n",
        "                position = False\n",
        "            else:\n",
        "                signalBuy.append(np.nan)\n",
        "                signalSell.append(np.nan)\n",
        "        else:\n",
        "            signalBuy.append(np.nan)\n",
        "            signalSell.append(np.nan)\n",
        "    return pd.Series([signalBuy, signalSell])"
      ],
      "metadata": {
        "id": "orwnafmRCAZG"
      },
      "execution_count": 69,
      "outputs": []
    },
    {
      "cell_type": "code",
      "source": [
        "btc_data['buy_sma'], btc_data['sell_sma'] = buy_sell_sma(btc_data)\n",
        "eth_data['buy_sma'], eth_data['sell_sma'] = buy_sell_sma(eth_data)\n",
        "bnb_data['buy_sma'], bnb_data['sell_sma'] = buy_sell_sma(bnb_data)\n",
        "usdt_data['buy_sma'], usdt_data['sell_sma'] = buy_sell_sma(usdt_data)\n",
        "sol_data['buy_sma'], sol_data['sell_sma'] = buy_sell_sma(sol_data)\n",
        "hex_data['buy_sma'], hex_data['sell_sma'] = buy_sell_sma(hex_data)\n",
        "ada_data['buy_sma'], ada_data['sell_sma'] = buy_sell_sma(ada_data)"
      ],
      "metadata": {
        "id": "FmjIbKTJCNvl"
      },
      "execution_count": 70,
      "outputs": []
    },
    {
      "cell_type": "code",
      "source": [
        "xrp_data['buy_sma'], xrp_data['sell_sma'] = buy_sell_sma(xrp_data)\n",
        "usdc_data['buy_sma'], usdc_data['sell_sma'] = buy_sell_sma(usdc_data)\n",
        "luna1_data['buy_sma'], luna1_data['sell_sma'] = buy_sell_sma(luna1_data)\n",
        "avax_data['buy_sma'], avax_data['sell_sma'] = buy_sell_sma(avax_data)\n",
        "dot_data['buy_sma'], dot_data['sell_sma'] = buy_sell_sma(dot_data)\n",
        "doge_data['buy_sma'], doge_data['sell_sma'] = buy_sell_sma(doge_data)\n",
        "shib_data['buy_sma'], shib_data['sell_sma'] = buy_sell_sma(shib_data)"
      ],
      "metadata": {
        "id": "b8aPe9wSs-Of"
      },
      "execution_count": 71,
      "outputs": []
    },
    {
      "cell_type": "code",
      "source": [
        "matic_data['buy_sma'], matic_data['sell_sma'] = buy_sell_sma(matic_data)\n",
        "ltc_data['buy_sma'], ltc_data['sell_sma'] = buy_sell_sma(ltc_data)\n",
        "link_data['buy_sma'], link_data['sell_sma'] = buy_sell_sma(link_data)\n",
        "algo_data['buy_sma'], algo_data['sell_sma'] = buy_sell_sma(algo_data)\n",
        "uni_data['buy_sma'], uni_data['sell_sma'] = buy_sell_sma(uni_data)\n",
        "dai_data['buy_sma'], dai_data['sell_sma'] = buy_sell_sma(dai_data)"
      ],
      "metadata": {
        "id": "63m_n7jWt_Zv"
      },
      "execution_count": 78,
      "outputs": []
    },
    {
      "cell_type": "code",
      "source": [
        "btc_data, eth_data, bnb_data, usdt_data, sol_data, hex_data, ada_data,\n",
        "xrp_data, usdc_data, luna1_data, avax_data, dot_data, doge_data,shib_data,\n",
        "matic_data, ltc_data, link_data, algo_data, uni_data, dai_data"
      ],
      "metadata": {
        "id": "F1401qt-ucTu"
      },
      "execution_count": null,
      "outputs": []
    },
    {
      "cell_type": "code",
      "source": [
        "#show the btc_data close prices and indicator\n",
        "fig, ax = plt.subplots(figsize=(16,6))\n",
        "ax.plot(btc_data['Adj Close'] , label = stocksymbols[0] ,linewidth=0.5, color='blue', alpha = 0.9)\n",
        "ax.plot(btc_data['SMA 30'], label = 'SMA30', alpha = 0.85)\n",
        "ax.plot(btc_data['SMA 100'], label = 'SMA100' , alpha = 0.85)\n",
        "ax.scatter(btc_data.index , btc_data['buy_sma'] , label = 'Buy' , marker = '^', color = 'green',alpha =1 )\n",
        "ax.scatter(btc_data.index , btc_data['sell_sma'] , label = 'Sell' , marker = 'v', color = 'red',alpha =1 )\n",
        "ax.set_title(stocksymbols[0] + \" SMA with buy and sell signals\",fontsize=10, backgroundcolor='violet', color='white')\n",
        "ax.set_xlabel(f'{startdate} - {end_date}' ,fontsize=18)\n",
        "ax.set_ylabel('Close Price' , fontsize=18)\n",
        "legend = ax.legend()\n",
        "ax.grid()\n",
        "plt.tight_layout()\n",
        "plt.show()"
      ],
      "metadata": {
        "id": "EaDZOUT3QejT"
      },
      "execution_count": null,
      "outputs": []
    },
    {
      "cell_type": "code",
      "source": [
        "fig, ax = plt.subplots(figsize=(16,6))\n",
        "ax.plot(eth_data['Adj Close'] , label = stocksymbols[1] ,linewidth=0.5, color='blue', alpha = 0.9)\n",
        "ax.plot(eth_data['SMA 30'], label = 'SMA30', alpha = 0.85)\n",
        "ax.plot(eth_data['SMA 100'], label = 'SMA100' , alpha = 0.85)\n",
        "ax.scatter(eth_data.index , eth_data['buy_sma'] , label = 'Buy' , marker = '^', color = 'green',alpha =1 )\n",
        "ax.scatter(eth_data.index , eth_data['sell_sma'] , label = 'Sell' , marker = 'v', color = 'red',alpha =1 )\n",
        "ax.set_title(stocksymbols[1] + \" SMA with buy and sell signals\",fontsize=10, backgroundcolor='violet', color='white')\n",
        "ax.set_xlabel(f'{startdate} - {end_date}' ,fontsize=18)\n",
        "ax.set_ylabel('Close Price' , fontsize=18)\n",
        "legend = ax.legend()\n",
        "ax.grid()\n",
        "plt.tight_layout()\n",
        "plt.show()"
      ],
      "metadata": {
        "id": "hEAv3p4uxwml"
      },
      "execution_count": null,
      "outputs": []
    },
    {
      "cell_type": "code",
      "source": [
        "fig, ax = plt.subplots(figsize=(16,6))\n",
        "ax.plot(bnb_data['Adj Close'] , label = stocksymbols[2] ,linewidth=0.5, color='blue', alpha = 0.9)\n",
        "ax.plot(bnb_data['SMA 30'], label = 'SMA30', alpha = 0.85)\n",
        "ax.plot(bnb_data['SMA 100'], label = 'SMA100' , alpha = 0.85)\n",
        "ax.scatter(bnb_data.index , bnb_data['buy_sma'] , label = 'Buy' , marker = '^', color = 'green',alpha =1 )\n",
        "ax.scatter(bnb_data.index , bnb_data['sell_sma'] , label = 'Sell' , marker = 'v', color = 'red',alpha =1 )\n",
        "ax.set_title(stocksymbols[2] + \" SMA with buy and sell signals\",fontsize=10, backgroundcolor='violet', color='white')\n",
        "ax.set_xlabel(f'{startdate} - {end_date}' ,fontsize=18)\n",
        "ax.set_ylabel('Close Price' , fontsize=18)\n",
        "legend = ax.legend()\n",
        "ax.grid()\n",
        "plt.tight_layout()\n",
        "plt.show()"
      ],
      "metadata": {
        "id": "aD1pxrq2yJGi"
      },
      "execution_count": null,
      "outputs": []
    },
    {
      "cell_type": "code",
      "source": [
        "fig, ax = plt.subplots(figsize=(16,6))\n",
        "ax.plot(usdt_data['Adj Close'] , label = stocksymbols[3] ,linewidth=0.5, color='blue', alpha = 0.9)\n",
        "ax.plot(usdt_data['SMA 30'], label = 'SMA30', alpha = 0.85)\n",
        "ax.plot(usdt_data['SMA 100'], label = 'SMA100' , alpha = 0.85)\n",
        "ax.scatter(usdt_data.index , usdt_data['buy_sma'] , label = 'Buy' , marker = '^', color = 'green',alpha =1 )\n",
        "ax.scatter(usdt_data.index , usdt_data['sell_sma'] , label = 'Sell' , marker = 'v', color = 'red',alpha =1 )\n",
        "ax.set_title(stocksymbols[3] + \" SMA with buy and sell signals\",fontsize=10, backgroundcolor='violet', color='white')\n",
        "ax.set_xlabel(f'{startdate} - {end_date}' ,fontsize=18)\n",
        "ax.set_ylabel('Close Price' , fontsize=18)\n",
        "legend = ax.legend()\n",
        "ax.grid()\n",
        "plt.tight_layout()\n",
        "plt.show()"
      ],
      "metadata": {
        "id": "wZpbRul0zLNb"
      },
      "execution_count": null,
      "outputs": []
    },
    {
      "cell_type": "code",
      "source": [
        "fig, ax = plt.subplots(figsize=(16,6))\n",
        "ax.plot(sol_data['Adj Close'] , label = stocksymbols[4] ,linewidth=0.5, color='blue', alpha = 0.9)\n",
        "ax.plot(sol_data['SMA 30'], label = 'SMA30', alpha = 0.85)\n",
        "ax.plot(sol_data['SMA 100'], label = 'SMA100' , alpha = 0.85)\n",
        "ax.scatter(sol_data.index , sol_data['buy_sma'] , label = 'Buy' , marker = '^', color = 'green',alpha =1 )\n",
        "ax.scatter(sol_data.index , sol_data['sell_sma'] , label = 'Sell' , marker = 'v', color = 'red',alpha =1 )\n",
        "ax.set_title(stocksymbols[4] + \" SMA with buy and sell signals\",fontsize=10, backgroundcolor='violet', color='white')\n",
        "ax.set_xlabel(f'{startdate} - {end_date}' ,fontsize=18)\n",
        "ax.set_ylabel('Close Price' , fontsize=18)\n",
        "legend = ax.legend()\n",
        "ax.grid()\n",
        "plt.tight_layout()\n",
        "plt.show()"
      ],
      "metadata": {
        "id": "3_59YqvVzd1D"
      },
      "execution_count": null,
      "outputs": []
    },
    {
      "cell_type": "code",
      "source": [
        "fig, ax = plt.subplots(figsize=(16,6))\n",
        "ax.plot(hex_data['Adj Close'] , label = stocksymbols[5] ,linewidth=0.5, color='blue', alpha = 0.9)\n",
        "ax.plot(hex_data['SMA 30'], label = 'SMA30', linewidth=0.5,alpha = 0.85)\n",
        "ax.plot(hex_data['SMA 100'], label = 'SMA100' ,linewidth=0.5, alpha = 0.85)\n",
        "ax.scatter(hex_data.index , hex_data['buy_sma'] , label = 'Buy' , marker = '^', color = 'green',alpha =1 )\n",
        "ax.scatter(hex_data.index , hex_data['sell_sma'] , label = 'Sell' , marker = 'v', color = 'red',alpha =1 )\n",
        "ax.set_title(stocksymbols[5] + \" SMA with buy and sell signals\",fontsize=10, backgroundcolor='violet', color='white')\n",
        "ax.set_xlabel(f'{startdate} - {end_date}' ,fontsize=18)\n",
        "ax.set_ylabel('Close Price' , fontsize=18)\n",
        "legend = ax.legend()\n",
        "ax.grid()\n",
        "plt.tight_layout()\n",
        "plt.show()"
      ],
      "metadata": {
        "id": "TYgBx6-K0jht"
      },
      "execution_count": null,
      "outputs": []
    },
    {
      "cell_type": "code",
      "source": [
        "fig, ax = plt.subplots(figsize=(16,6))\n",
        "ax.plot(ada_data['Adj Close'] , label = stocksymbols[6] ,linewidth=0.5, color='blue', alpha = 0.9)\n",
        "ax.plot(ada_data['SMA 30'], label = 'SMA30', linewidth=0.5,alpha = 0.85)\n",
        "ax.plot(ada_data['SMA 100'], label = 'SMA100' ,linewidth=0.5, alpha = 0.85)\n",
        "ax.scatter(ada_data.index , ada_data['buy_sma'] , label = 'Buy' , marker = '^', color = 'green',alpha =1 )\n",
        "ax.scatter(ada_data.index , ada_data['sell_sma'] , label = 'Sell' , marker = 'v', color = 'red',alpha =1 )\n",
        "ax.set_title(stocksymbols[6] + \" SMA with buy and sell signals\",fontsize=10, backgroundcolor='violet', color='white')\n",
        "ax.set_xlabel(f'{startdate} - {end_date}' ,fontsize=18)\n",
        "ax.set_ylabel('Close Price' , fontsize=18)\n",
        "legend = ax.legend()\n",
        "ax.grid()\n",
        "plt.tight_layout()\n",
        "plt.show()"
      ],
      "metadata": {
        "id": "b3EIipbd06H7"
      },
      "execution_count": null,
      "outputs": []
    },
    {
      "cell_type": "code",
      "source": [
        "fig, ax = plt.subplots(figsize=(16,6))\n",
        "ax.plot(xrp_data['Adj Close'] , label = stocksymbols[7] ,linewidth=0.5, color='blue', alpha = 0.9)\n",
        "ax.plot(xrp_data['SMA 30'], label = 'SMA30', linewidth=0.5,alpha = 0.85)\n",
        "ax.plot(xrp_data['SMA 100'], label = 'SMA100' ,linewidth=0.5, alpha = 0.85)\n",
        "ax.scatter(xrp_data.index , xrp_data['buy_sma'] , label = 'Buy' , marker = '^', color = 'green',alpha =1 )\n",
        "ax.scatter(xrp_data.index , xrp_data['sell_sma'] , label = 'Sell' , marker = 'v', color = 'red',alpha =1 )\n",
        "ax.set_title(stocksymbols[7] + \" SMA with buy and sell signals\",fontsize=10, backgroundcolor='violet', color='white')\n",
        "ax.set_xlabel(f'{startdate} - {end_date}' ,fontsize=18)\n",
        "ax.set_ylabel('Close Price' , fontsize=18)\n",
        "legend = ax.legend()\n",
        "ax.grid()\n",
        "plt.tight_layout()\n",
        "plt.show()"
      ],
      "metadata": {
        "id": "73tc-fP41HGH"
      },
      "execution_count": null,
      "outputs": []
    },
    {
      "cell_type": "code",
      "source": [
        "fig, ax = plt.subplots(figsize=(16,6))\n",
        "ax.plot(usdc_data['Adj Close'] , label = stocksymbols[8] ,linewidth=0.5, color='blue', alpha = 0.9)\n",
        "ax.plot(usdc_data['SMA 30'], label = 'SMA30', linewidth=0.5,alpha = 0.85)\n",
        "ax.plot(usdc_data['SMA 100'], label = 'SMA100' ,linewidth=0.5, alpha = 0.85)\n",
        "ax.scatter(usdc_data.index , usdc_data['buy_sma'] , label = 'Buy' , marker = '^', color = 'green',alpha =1 )\n",
        "ax.scatter(usdc_data.index , usdc_data['sell_sma'] , label = 'Sell' , marker = 'v', color = 'red',alpha =1 )\n",
        "ax.set_title(stocksymbols[8] + \" SMA with buy and sell signals\",fontsize=10, backgroundcolor='violet', color='white')\n",
        "ax.set_xlabel(f'{startdate} - {end_date}' ,fontsize=18)\n",
        "ax.set_ylabel('Close Price' , fontsize=18)\n",
        "legend = ax.legend()\n",
        "ax.grid()\n",
        "plt.tight_layout()\n",
        "plt.show()"
      ],
      "metadata": {
        "id": "jGEhUlfa1Y9E"
      },
      "execution_count": null,
      "outputs": []
    },
    {
      "cell_type": "code",
      "source": [
        "fig, ax = plt.subplots(figsize=(16,6))\n",
        "ax.plot(luna1_data['Adj Close'] , label = stocksymbols[9] ,linewidth=0.5, color='blue', alpha = 0.9)\n",
        "ax.plot(luna1_data['SMA 30'], label = 'SMA30', linewidth=0.5,alpha = 0.85)\n",
        "ax.plot(luna1_data['SMA 100'], label = 'SMA100' ,linewidth=0.5, alpha = 0.85)\n",
        "ax.scatter(luna1_data.index , luna1_data['buy_sma'] , label = 'Buy' , marker = '^', color = 'green',alpha =1 )\n",
        "ax.scatter(luna1_data.index , luna1_data['sell_sma'] , label = 'Sell' , marker = 'v', color = 'red',alpha =1 )\n",
        "ax.set_title(stocksymbols[9] + \" SMA with buy and sell signals\",fontsize=10, backgroundcolor='violet', color='white')\n",
        "ax.set_xlabel(f'{startdate} - {end_date}' ,fontsize=18)\n",
        "ax.set_ylabel('Close Price' , fontsize=18)\n",
        "legend = ax.legend()\n",
        "ax.grid()\n",
        "plt.tight_layout()\n",
        "plt.show()"
      ],
      "metadata": {
        "id": "jbZfBzRm13yk"
      },
      "execution_count": null,
      "outputs": []
    },
    {
      "cell_type": "code",
      "source": [
        "fig, ax = plt.subplots(figsize=(16,6))\n",
        "ax.plot(avax_data['Adj Close'] , label = stocksymbols[10] ,linewidth=0.5, color='blue', alpha = 0.9)\n",
        "ax.plot(avax_data['SMA 30'], label = 'SMA30', linewidth=0.5,alpha = 0.85)\n",
        "ax.plot(avax_data['SMA 100'], label = 'SMA100' ,linewidth=0.5, alpha = 0.85)\n",
        "ax.scatter(avax_data.index , avax_data['buy_sma'] , label = 'Buy' , marker = '^', color = 'green',alpha =1 )\n",
        "ax.scatter(avax_data.index , avax_data['sell_sma'] , label = 'Sell' , marker = 'v', color = 'red',alpha =1 )\n",
        "ax.set_title(stocksymbols[10] + \" SMA with buy and sell signals\",fontsize=10, backgroundcolor='violet', color='white')\n",
        "ax.set_xlabel(f'{startdate} - {end_date}' ,fontsize=18)\n",
        "ax.set_ylabel('Close Price' , fontsize=18)\n",
        "legend = ax.legend()\n",
        "ax.grid()\n",
        "plt.tight_layout()\n",
        "plt.show()"
      ],
      "metadata": {
        "id": "5WgxXkMA2Geh"
      },
      "execution_count": null,
      "outputs": []
    },
    {
      "cell_type": "code",
      "source": [
        "fig, ax = plt.subplots(figsize=(16,6))\n",
        "ax.plot(dot_data['Adj Close'] , label = stocksymbols[11] ,linewidth=0.5, color='blue', alpha = 0.9)\n",
        "ax.plot(dot_data['SMA 30'], label = 'SMA30', linewidth=0.5,alpha = 0.85)\n",
        "ax.plot(dot_data['SMA 100'], label = 'SMA100' ,linewidth=0.5, alpha = 0.85)\n",
        "ax.scatter(dot_data.index , dot_data['buy_sma'] , label = 'Buy' , marker = '^', color = 'green',alpha =1 )\n",
        "ax.scatter(dot_data.index , dot_data['sell_sma'] , label = 'Sell' , marker = 'v', color = 'red',alpha =1 )\n",
        "ax.set_title(stocksymbols[11] + \" SMA with buy and sell signals\",fontsize=10, backgroundcolor='violet', color='white')\n",
        "ax.set_xlabel(f'{startdate} - {end_date}' ,fontsize=18)\n",
        "ax.set_ylabel('Close Price' , fontsize=18)\n",
        "legend = ax.legend()\n",
        "ax.grid()\n",
        "plt.tight_layout()\n",
        "plt.show()"
      ],
      "metadata": {
        "id": "CIz0_6fG29dU"
      },
      "execution_count": null,
      "outputs": []
    },
    {
      "cell_type": "code",
      "source": [
        "fig, ax = plt.subplots(figsize=(16,6))\n",
        "ax.plot(doge_data['Adj Close'] , label = stocksymbols[12] ,linewidth=0.5, color='blue', alpha = 0.9)\n",
        "ax.plot(doge_data['SMA 30'], label = 'SMA30', linewidth=0.5,alpha = 0.85)\n",
        "ax.plot(doge_data['SMA 100'], label = 'SMA100' ,linewidth=0.5, alpha = 0.85)\n",
        "ax.scatter(doge_data.index , doge_data['buy_sma'] , label = 'Buy' , marker = '^', color = 'green',alpha =1 )\n",
        "ax.scatter(doge_data.index , doge_data['sell_sma'] , label = 'Sell' , marker = 'v', color = 'red',alpha =1 )\n",
        "ax.set_title(stocksymbols[12] + \" SMA with buy and sell signals\",fontsize=10, backgroundcolor='violet', color='white')\n",
        "ax.set_xlabel(f'{startdate} - {end_date}' ,fontsize=18)\n",
        "ax.set_ylabel('Close Price' , fontsize=18)\n",
        "legend = ax.legend()\n",
        "ax.grid()\n",
        "plt.tight_layout()\n",
        "plt.show()"
      ],
      "metadata": {
        "id": "hMxX2q7e3UGd"
      },
      "execution_count": null,
      "outputs": []
    },
    {
      "cell_type": "code",
      "source": [
        "fig, ax = plt.subplots(figsize=(16,6))\n",
        "ax.plot(shib_data['Adj Close'] , label = stocksymbols[13] ,linewidth=0.5, color='blue', alpha = 0.9)\n",
        "ax.plot(shib_data['SMA 30'], label = 'SMA30', linewidth=0.5,alpha = 0.85)\n",
        "ax.plot(shib_data['SMA 100'], label = 'SMA100' ,linewidth=0.5, alpha = 0.85)\n",
        "ax.scatter(shib_data.index , shib_data['buy_sma'] , label = 'Buy' , marker = '^', color = 'green',alpha =1 )\n",
        "ax.scatter(shib_data.index , shib_data['sell_sma'] , label = 'Sell' , marker = 'v', color = 'red',alpha =1 )\n",
        "ax.set_title(stocksymbols[13] + \" SMA with buy and sell signals\",fontsize=10, backgroundcolor='violet', color='white')\n",
        "ax.set_xlabel(f'{startdate} - {end_date}' ,fontsize=18)\n",
        "ax.set_ylabel('Close Price' , fontsize=18)\n",
        "legend = ax.legend()\n",
        "ax.grid()\n",
        "plt.tight_layout()\n",
        "plt.show()"
      ],
      "metadata": {
        "id": "Gx_s-1ZE3rJe"
      },
      "execution_count": null,
      "outputs": []
    },
    {
      "cell_type": "code",
      "source": [
        "fig, ax = plt.subplots(figsize=(16,6))\n",
        "ax.plot(matic_data['Adj Close'] , label = stocksymbols[14] ,linewidth=0.5, color='blue', alpha = 0.9)\n",
        "ax.plot(matic_data['SMA 30'], label = 'SMA30', linewidth=0.5,alpha = 0.85)\n",
        "ax.plot(matic_data['SMA 100'], label = 'SMA100' ,linewidth=0.5, alpha = 0.85)\n",
        "ax.scatter(matic_data.index , matic_data['buy_sma'] , label = 'Buy' , marker = '^', color = 'green',alpha =1 )\n",
        "ax.scatter(matic_data.index , matic_data['sell_sma'] , label = 'Sell' , marker = 'v', color = 'red',alpha =1 )\n",
        "ax.set_title(stocksymbols[14] + \" SMA with buy and sell signals\",fontsize=10, backgroundcolor='violet', color='white')\n",
        "ax.set_xlabel(f'{startdate} - {end_date}' ,fontsize=18)\n",
        "ax.set_ylabel('Close Price' , fontsize=18)\n",
        "legend = ax.legend()\n",
        "ax.grid()\n",
        "plt.tight_layout()\n",
        "plt.show()"
      ],
      "metadata": {
        "id": "yRBVp3cp33bF"
      },
      "execution_count": null,
      "outputs": []
    },
    {
      "cell_type": "code",
      "source": [
        "fig, ax = plt.subplots(figsize=(16,6))\n",
        "ax.plot(ltc_data['Adj Close'] , label = stocksymbols[15] ,linewidth=0.5, color='blue', alpha = 0.9)\n",
        "ax.plot(ltc_data['SMA 30'], label = 'SMA30', linewidth=0.5,alpha = 0.85)\n",
        "ax.plot(ltc_data['SMA 100'], label = 'SMA100' ,linewidth=0.5, alpha = 0.85)\n",
        "ax.scatter(ltc_data.index , ltc_data['buy_sma'] , label = 'Buy' , marker = '^', color = 'green',alpha =1 )\n",
        "ax.scatter(ltc_data.index , ltc_data['sell_sma'] , label = 'Sell' , marker = 'v', color = 'red',alpha =1 )\n",
        "ax.set_title(stocksymbols[15] + \" SMA with buy and sell signals\",fontsize=10, backgroundcolor='violet', color='white')\n",
        "ax.set_xlabel(f'{startdate} - {end_date}' ,fontsize=18)\n",
        "ax.set_ylabel('Close Price' , fontsize=18)\n",
        "legend = ax.legend()\n",
        "ax.grid()\n",
        "plt.tight_layout()\n",
        "plt.show()"
      ],
      "metadata": {
        "id": "WAYj6PCuDBfE"
      },
      "execution_count": null,
      "outputs": []
    },
    {
      "cell_type": "code",
      "source": [
        "fig, ax = plt.subplots(figsize=(16,6))\n",
        "ax.plot(link_data['Adj Close'] , label = stocksymbols[16] ,linewidth=0.5, color='blue', alpha = 0.9)\n",
        "ax.plot(link_data['SMA 30'], label = 'SMA30', linewidth=0.5,alpha = 0.85)\n",
        "ax.plot(link_data['SMA 100'], label = 'SMA100' ,linewidth=0.5, alpha = 0.85)\n",
        "ax.scatter(link_data.index , link_data['buy_sma'] , label = 'Buy' , marker = '^', color = 'green',alpha =1 )\n",
        "ax.scatter(link_data.index , link_data['sell_sma'] , label = 'Sell' , marker = 'v', color = 'red',alpha =1 )\n",
        "ax.set_title(stocksymbols[16] + \" SMA with buy and sell signals\",fontsize=10, backgroundcolor='violet', color='white')\n",
        "ax.set_xlabel(f'{startdate} - {end_date}' ,fontsize=18)\n",
        "ax.set_ylabel('Close Price' , fontsize=18)\n",
        "legend = ax.legend()\n",
        "ax.grid()\n",
        "plt.tight_layout()\n",
        "plt.show()"
      ],
      "metadata": {
        "id": "myeCKDp8DRAT"
      },
      "execution_count": null,
      "outputs": []
    },
    {
      "cell_type": "code",
      "source": [
        "fig, ax = plt.subplots(figsize=(16,6))\n",
        "ax.plot(algo_data['Adj Close'] , label = stocksymbols[17] ,linewidth=0.5, color='blue', alpha = 0.9)\n",
        "ax.plot(algo_data['SMA 30'], label = 'SMA30', linewidth=0.5,alpha = 0.85)\n",
        "ax.plot(algo_data['SMA 100'], label = 'SMA100' ,linewidth=0.5, alpha = 0.85)\n",
        "ax.scatter(algo_data.index , algo_data['buy_sma'] , label = 'Buy' , marker = '^', color = 'green',alpha =1 )\n",
        "ax.scatter(algo_data.index , algo_data['sell_sma'] , label = 'Sell' , marker = 'v', color = 'red',alpha =1 )\n",
        "ax.set_title(stocksymbols[17] + \" SMA with buy and sell signals\",fontsize=10, backgroundcolor='violet', color='white')\n",
        "ax.set_xlabel(f'{startdate} - {end_date}' ,fontsize=18)\n",
        "ax.set_ylabel('Close Price' , fontsize=18)\n",
        "legend = ax.legend()\n",
        "ax.grid()\n",
        "plt.tight_layout()\n",
        "plt.show()"
      ],
      "metadata": {
        "id": "nbVR5wV9Dds9"
      },
      "execution_count": null,
      "outputs": []
    },
    {
      "cell_type": "code",
      "source": [
        "fig, ax = plt.subplots(figsize=(16,6))\n",
        "ax.plot(uni_data['Adj Close'] , label = stocksymbols[18] ,linewidth=0.5, color='blue', alpha = 0.9)\n",
        "ax.plot(uni_data['SMA 30'], label = 'SMA30', linewidth=0.5,alpha = 0.85)\n",
        "ax.plot(uni_data['SMA 100'], label = 'SMA100' ,linewidth=0.5, alpha = 0.85)\n",
        "ax.scatter(uni_data.index , uni_data['buy_sma'] , label = 'Buy' , marker = '^', color = 'green',alpha =1 )\n",
        "ax.scatter(uni_data.index , uni_data['sell_sma'] , label = 'Sell' , marker = 'v', color = 'red',alpha =1 )\n",
        "ax.set_title(stocksymbols[18] + \" SMA with buy and sell signals\",fontsize=10, backgroundcolor='violet', color='white')\n",
        "ax.set_xlabel(f'{startdate} - {end_date}' ,fontsize=18)\n",
        "ax.set_ylabel('Close Price' , fontsize=18)\n",
        "legend = ax.legend()\n",
        "ax.grid()\n",
        "plt.tight_layout()\n",
        "plt.show()"
      ],
      "metadata": {
        "id": "1C_P9Yv7Dn4Z"
      },
      "execution_count": null,
      "outputs": []
    },
    {
      "cell_type": "code",
      "source": [
        "fig, ax = plt.subplots(figsize=(16,6))\n",
        "ax.plot(dai_data['Adj Close'] , label = stocksymbols[19] ,linewidth=0.5, color='blue', alpha = 0.9)\n",
        "ax.plot(dai_data['SMA 30'], label = 'SMA30', linewidth=0.5,alpha = 0.85)\n",
        "ax.plot(dai_data['SMA 100'], label = 'SMA100' ,linewidth=0.5, alpha = 0.85)\n",
        "ax.scatter(dai_data.index , dai_data['buy_sma'] , label = 'Buy' , marker = '^', color = 'green',alpha =1 )\n",
        "ax.scatter(dai_data.index , dai_data['sell_sma'] , label = 'Sell' , marker = 'v', color = 'red',alpha =1 )\n",
        "ax.set_title(stocksymbols[19] + \" SMA with buy and sell signals\",fontsize=10, backgroundcolor='violet', color='white')\n",
        "ax.set_xlabel(f'{startdate} - {end_date}' ,fontsize=18)\n",
        "ax.set_ylabel('Close Price' , fontsize=18)\n",
        "legend = ax.legend()\n",
        "ax.grid()\n",
        "plt.tight_layout()\n",
        "plt.show()"
      ],
      "metadata": {
        "id": "LO6RYr_ID8-t"
      },
      "execution_count": null,
      "outputs": []
    },
    {
      "cell_type": "code",
      "source": [
        "short_ema = btc_data.Close.ewm(span =12, adjust= False).mean()\n",
        "long_ema = btc_data.Close.ewm(span=26,adjust=False).mean()\n",
        "macd = short_ema - long_ema\n",
        "signal = macd.ewm(span=9, adjust=False).mean()"
      ],
      "metadata": {
        "id": "fGALcmNLv_g7"
      },
      "execution_count": 115,
      "outputs": []
    },
    {
      "cell_type": "code",
      "source": [
        "short_ema = eth_data.Close.ewm(span =12, adjust= False).mean()\n",
        "long_ema = eth_data.Close.ewm(span=26,adjust=False).mean()\n",
        "macd = short_ema - long_ema\n",
        "signal = macd.ewm(span=9, adjust=False).mean()"
      ],
      "metadata": {
        "id": "VjWwLGOKEQR6"
      },
      "execution_count": 116,
      "outputs": []
    },
    {
      "cell_type": "code",
      "source": [
        "short_ema = bnb_data.Close.ewm(span =12, adjust= False).mean()\n",
        "long_ema = bnb_data.Close.ewm(span=26,adjust=False).mean()\n",
        "macd = short_ema - long_ema\n",
        "signal = macd.ewm(span=9, adjust=False).mean()"
      ],
      "metadata": {
        "id": "U_a5zXTMEWnH"
      },
      "execution_count": 117,
      "outputs": []
    },
    {
      "cell_type": "code",
      "source": [
        "short_ema = usdt_data.Close.ewm(span =12, adjust= False).mean()\n",
        "long_ema = usdt_data.Close.ewm(span=26,adjust=False).mean()\n",
        "macd = short_ema - long_ema\n",
        "signal = macd.ewm(span=9, adjust=False).mean()"
      ],
      "metadata": {
        "id": "0nNCg8e1Ea0y"
      },
      "execution_count": 118,
      "outputs": []
    },
    {
      "cell_type": "code",
      "source": [
        "short_ema = sol_data.Close.ewm(span =12, adjust= False).mean()\n",
        "long_ema = sol_data.Close.ewm(span=26,adjust=False).mean()\n",
        "macd = short_ema - long_ema\n",
        "signal = macd.ewm(span=9, adjust=False).mean()"
      ],
      "metadata": {
        "id": "bqpJNPdVEe6R"
      },
      "execution_count": 119,
      "outputs": []
    },
    {
      "cell_type": "code",
      "source": [
        "short_ema = hex_data.Close.ewm(span =12, adjust= False).mean()\n",
        "long_ema = hex_data.Close.ewm(span=26,adjust=False).mean()\n",
        "macd = short_ema - long_ema\n",
        "signal = macd.ewm(span=9, adjust=False).mean()"
      ],
      "metadata": {
        "id": "Y9JgPS5CEiwZ"
      },
      "execution_count": 120,
      "outputs": []
    },
    {
      "cell_type": "code",
      "source": [
        "short_ema = ada_data.Close.ewm(span =12, adjust= False).mean()\n",
        "long_ema = ada_data.Close.ewm(span=26,adjust=False).mean()\n",
        "macd = short_ema - long_ema\n",
        "signal = macd.ewm(span=9, adjust=False).mean()"
      ],
      "metadata": {
        "id": "fSTknBMoEmPb"
      },
      "execution_count": 121,
      "outputs": []
    },
    {
      "cell_type": "code",
      "source": [
        "short_ema = xrp_data.Close.ewm(span =12, adjust= False).mean()\n",
        "long_ema = xrp_data.Close.ewm(span=26,adjust=False).mean()\n",
        "macd = short_ema - long_ema\n",
        "signal = macd.ewm(span=9, adjust=False).mean()"
      ],
      "metadata": {
        "id": "_O_kUPbmEryu"
      },
      "execution_count": 122,
      "outputs": []
    },
    {
      "cell_type": "code",
      "source": [
        "short_ema = usdc_data.Close.ewm(span =12, adjust= False).mean()\n",
        "long_ema = usdc_data.Close.ewm(span=26,adjust=False).mean()\n",
        "macd = short_ema - long_ema\n",
        "signal = macd.ewm(span=9, adjust=False).mean()"
      ],
      "metadata": {
        "id": "TSEu0nwTEvuy"
      },
      "execution_count": 123,
      "outputs": []
    },
    {
      "cell_type": "code",
      "source": [
        "short_ema = luna1_data.Close.ewm(span =12, adjust= False).mean()\n",
        "long_ema = luna1_data.Close.ewm(span=26,adjust=False).mean()\n",
        "macd = short_ema - long_ema\n",
        "signal = macd.ewm(span=9, adjust=False).mean()"
      ],
      "metadata": {
        "id": "Dn9y1aT2E1gJ"
      },
      "execution_count": 124,
      "outputs": []
    },
    {
      "cell_type": "code",
      "source": [
        "short_ema = avax_data.Close.ewm(span =12, adjust= False).mean()\n",
        "long_ema = avax_data.Close.ewm(span=26,adjust=False).mean()\n",
        "macd = short_ema - long_ema\n",
        "signal = macd.ewm(span=9, adjust=False).mean()"
      ],
      "metadata": {
        "id": "ZSuIdHTPE4yU"
      },
      "execution_count": 125,
      "outputs": []
    },
    {
      "cell_type": "code",
      "source": [
        "short_ema = dot_data.Close.ewm(span =12, adjust= False).mean()\n",
        "long_ema = dot_data.Close.ewm(span=26,adjust=False).mean()\n",
        "macd = short_ema - long_ema\n",
        "signal = macd.ewm(span=9, adjust=False).mean()"
      ],
      "metadata": {
        "id": "bEOGjQB5E8jD"
      },
      "execution_count": 126,
      "outputs": []
    },
    {
      "cell_type": "code",
      "source": [
        "short_ema = doge_data.Close.ewm(span =12, adjust= False).mean()\n",
        "long_ema = doge_data.Close.ewm(span=26,adjust=False).mean()\n",
        "macd = short_ema - long_ema\n",
        "signal = macd.ewm(span=9, adjust=False).mean()"
      ],
      "metadata": {
        "id": "UHDfC_UoFACC"
      },
      "execution_count": 127,
      "outputs": []
    },
    {
      "cell_type": "code",
      "source": [
        "short_ema = shib_data.Close.ewm(span =12, adjust= False).mean()\n",
        "long_ema = shib_data.Close.ewm(span=26,adjust=False).mean()\n",
        "macd = short_ema - long_ema\n",
        "signal = macd.ewm(span=9, adjust=False).mean()"
      ],
      "metadata": {
        "id": "8dubgIsdFDOg"
      },
      "execution_count": 128,
      "outputs": []
    },
    {
      "cell_type": "code",
      "source": [
        "short_ema = matic_data.Close.ewm(span =12, adjust= False).mean()\n",
        "long_ema = matic_data.Close.ewm(span=26,adjust=False).mean()\n",
        "macd = short_ema - long_ema\n",
        "signal = macd.ewm(span=9, adjust=False).mean()"
      ],
      "metadata": {
        "id": "iQAtPTrqFGZp"
      },
      "execution_count": 129,
      "outputs": []
    },
    {
      "cell_type": "code",
      "source": [
        "short_ema = ltc_data.Close.ewm(span =12, adjust= False).mean()\n",
        "long_ema = ltc_data.Close.ewm(span=26,adjust=False).mean()\n",
        "macd = short_ema - long_ema\n",
        "signal = macd.ewm(span=9, adjust=False).mean()"
      ],
      "metadata": {
        "id": "V_g8nqpjFJlW"
      },
      "execution_count": 130,
      "outputs": []
    },
    {
      "cell_type": "code",
      "source": [
        "short_ema = link_data.Close.ewm(span =12, adjust= False).mean()\n",
        "long_ema = link_data.Close.ewm(span=26,adjust=False).mean()\n",
        "macd = short_ema - long_ema\n",
        "signal = macd.ewm(span=9, adjust=False).mean()"
      ],
      "metadata": {
        "id": "v2YbBKZHFPtL"
      },
      "execution_count": 131,
      "outputs": []
    },
    {
      "cell_type": "code",
      "source": [
        "short_ema = algo_data.Close.ewm(span =12, adjust= False).mean()\n",
        "long_ema = algo_data.Close.ewm(span=26,adjust=False).mean()\n",
        "macd = short_ema - long_ema\n",
        "signal = macd.ewm(span=9, adjust=False).mean()"
      ],
      "metadata": {
        "id": "oAYKme4jFSvA"
      },
      "execution_count": 132,
      "outputs": []
    },
    {
      "cell_type": "code",
      "source": [
        "short_ema = uni_data.Close.ewm(span =12, adjust= False).mean()\n",
        "long_ema = uni_data.Close.ewm(span=26,adjust=False).mean()\n",
        "macd = short_ema - long_ema\n",
        "signal = macd.ewm(span=9, adjust=False).mean()"
      ],
      "metadata": {
        "id": "78Xj0KJVFW9a"
      },
      "execution_count": 133,
      "outputs": []
    },
    {
      "cell_type": "code",
      "source": [
        "short_ema = dai_data.Close.ewm(span =12, adjust= False).mean()\n",
        "long_ema = dai_data.Close.ewm(span=26,adjust=False).mean()\n",
        "macd = short_ema - long_ema\n",
        "signal = macd.ewm(span=9, adjust=False).mean()"
      ],
      "metadata": {
        "id": "KsHghDWYFcdt"
      },
      "execution_count": 134,
      "outputs": []
    },
    {
      "cell_type": "code",
      "source": [
        "plt.figure(figsize = (16.4,4.1))\n",
        "plt.plot(btc_data.index,macd, label= 'Macd', color ='red',linewidth= 1)\n",
        "plt.plot(btc_data.index, signal, label='Signal Line', color='blue',alpha=0.35)\n",
        "plt.show()"
      ],
      "metadata": {
        "id": "5G48qo1Fw7dh"
      },
      "execution_count": null,
      "outputs": []
    },
    {
      "cell_type": "code",
      "source": [
        "plt.figure(figsize = (16.4,4.1))\n",
        "plt.plot(eth_data.index,macd, label= 'Macd', color ='red',linewidth= 1)\n",
        "plt.plot(eth_data.index, signal, label='Signal Line', color='blue',alpha=0.35)\n",
        "plt.show()"
      ],
      "metadata": {
        "id": "0WOMyHJUFmaS"
      },
      "execution_count": null,
      "outputs": []
    },
    {
      "cell_type": "code",
      "source": [
        "plt.figure(figsize = (16.4,4.1))\n",
        "plt.plot(bnb_data.index, macd, label= 'Macd', color ='red',linewidth= 1)\n",
        "plt.plot(bnb_data.index, signal, label='Signal Line', color='blue',alpha=0.35)\n",
        "plt.show()"
      ],
      "metadata": {
        "id": "tS8OC2-JFrBd"
      },
      "execution_count": null,
      "outputs": []
    },
    {
      "cell_type": "code",
      "source": [
        "plt.figure(figsize = (16.4,4.1))\n",
        "plt.plot(usdt_data.index,macd, label= 'Macd', color ='red',linewidth= 1)\n",
        "plt.plot(usdt_data.index, signal, label='Signal Line', color='blue',alpha=0.35)\n",
        "plt.show()"
      ],
      "metadata": {
        "id": "fYmCRH_GF7mc"
      },
      "execution_count": null,
      "outputs": []
    },
    {
      "cell_type": "code",
      "source": [
        "plt.figure(figsize = (16.4,4.1))\n",
        "plt.plot(luna1_data.index,macd, label= 'Macd', color ='red',linewidth= 1)\n",
        "plt.plot(luna1_data.index, signal, label='Signal Line', color='blue',alpha=0.35)\n",
        "plt.show()"
      ],
      "metadata": {
        "id": "zunt1kLCGBAQ"
      },
      "execution_count": null,
      "outputs": []
    },
    {
      "cell_type": "code",
      "source": [
        "plt.figure(figsize = (16.4,4.1))\n",
        "plt.plot(avax_data.index,macd, label= 'Macd', color ='red',linewidth= 1)\n",
        "plt.plot(avax_data.index, signal, label='Signal Line', color='blue',alpha=0.35)\n",
        "plt.show()"
      ],
      "metadata": {
        "id": "ammGUcJRGFL4"
      },
      "execution_count": null,
      "outputs": []
    },
    {
      "cell_type": "code",
      "source": [
        "plt.figure(figsize = (16.4,4.1))\n",
        "plt.plot(dot_data.index,macd, label= 'Macd', color ='red',linewidth= 1)\n",
        "plt.plot(dot_data.index, signal, label='Signal Line', color='blue',alpha=0.35)\n",
        "plt.show()"
      ],
      "metadata": {
        "id": "Q5OKdulMGI0b"
      },
      "execution_count": null,
      "outputs": []
    },
    {
      "cell_type": "code",
      "source": [
        "plt.figure(figsize = (16.4,4.1))\n",
        "plt.plot(doge_data.index,macd, label= 'Macd', color ='red',linewidth= 1)\n",
        "plt.plot(doge_data.index, signal, label='Signal Line', color='blue',alpha=0.35)\n",
        "plt.show()"
      ],
      "metadata": {
        "id": "c8IBGBfPGN-8"
      },
      "execution_count": null,
      "outputs": []
    },
    {
      "cell_type": "code",
      "source": [
        "plt.figure(figsize = (16.4,4.1))\n",
        "plt.plot(shib_data.index,macd, label= 'Macd', color ='red',linewidth= 1)\n",
        "plt.plot(shib_data.index, signal, label='Signal Line', color='blue',alpha=0.35)\n",
        "plt.show()"
      ],
      "metadata": {
        "id": "qPu_r6xpGRpj"
      },
      "execution_count": null,
      "outputs": []
    },
    {
      "cell_type": "code",
      "source": [
        "plt.figure(figsize = (16.4,4.1))\n",
        "plt.plot(matic_data.index,macd, label= 'Macd', color ='red',linewidth= 1)\n",
        "plt.plot(matic_data.index, signal, label='Signal Line', color='blue',alpha=0.35)\n",
        "plt.show()"
      ],
      "metadata": {
        "id": "g3N2trYEGViO"
      },
      "execution_count": null,
      "outputs": []
    },
    {
      "cell_type": "code",
      "source": [
        "plt.figure(figsize = (16.4,4.1))\n",
        "plt.plot(ltc_data.index,macd, label= 'Macd', color ='red',linewidth= 1)\n",
        "plt.plot(ltc_data.index, signal, label='Signal Line', color='blue',alpha=0.35)\n",
        "plt.show()"
      ],
      "metadata": {
        "id": "ImUtR8gvGcXk"
      },
      "execution_count": null,
      "outputs": []
    },
    {
      "cell_type": "code",
      "source": [
        "plt.figure(figsize = (16.4,4.1))\n",
        "plt.plot(link_data.index,macd, label= 'Macd', color ='red',linewidth= 1)\n",
        "plt.plot(link_data.index, signal, label='Signal Line', color='blue',alpha=0.35)\n",
        "plt.show()"
      ],
      "metadata": {
        "id": "LKTodprzGhEz"
      },
      "execution_count": null,
      "outputs": []
    },
    {
      "cell_type": "code",
      "source": [
        "plt.figure(figsize = (16.4,4.1))\n",
        "plt.plot(algo_data.index,macd, label= 'Macd', color ='red',linewidth= 1)\n",
        "plt.plot(algo_data.index, signal, label='Signal Line', color='blue',alpha=0.35)\n",
        "plt.show()"
      ],
      "metadata": {
        "id": "6isGhA-7Glox"
      },
      "execution_count": null,
      "outputs": []
    },
    {
      "cell_type": "code",
      "source": [
        "plt.figure(figsize = (16.4,4.1))\n",
        "plt.plot(uni_data.index,macd, label= 'Macd', color ='red',linewidth= 1)\n",
        "plt.plot(uni_data.index, signal, label='Signal Line', color='blue',alpha=0.35)\n",
        "plt.show()"
      ],
      "metadata": {
        "id": "cKFCB1BvGp8Q"
      },
      "execution_count": null,
      "outputs": []
    },
    {
      "cell_type": "code",
      "source": [
        "plt.figure(figsize = (16.4,4.1))\n",
        "plt.plot(dai_data.index,macd, label= 'Macd', color ='red',linewidth= 1)\n",
        "plt.plot(dai_data.index, signal, label='Signal Line', color='blue',alpha=0.35)\n",
        "plt.show()"
      ],
      "metadata": {
        "id": "AALOcRcmGunT"
      },
      "execution_count": null,
      "outputs": []
    },
    {
      "cell_type": "code",
      "source": [
        "btc_data['macd'] = macd\n",
        "btc_data['macd_signal'] = signal\n",
        "eth_data['macd'] = macd\n",
        "eth_data['macd_signal'] = signal\n",
        "bnb_data['macd'] = macd\n",
        "bnb_data['macd_signal'] = signal\n",
        "usdt_data['macd'] = macd\n",
        "usdt_data['macd_signal'] = signal"
      ],
      "metadata": {
        "id": "pNJUShKcx7-L"
      },
      "execution_count": 152,
      "outputs": []
    },
    {
      "cell_type": "code",
      "source": [
        "sol_data['macd'] = macd\n",
        "sol_data['macd_signal'] = signal\n",
        "hex_data['macd'] = macd\n",
        "hex_data['macd_signal'] = signal\n",
        "ada_data['macd'] = macd\n",
        "ada_data['macd_signal'] = signal\n",
        "xrp_data['macd'] = macd\n",
        "xrp_data['macd_signal'] = signal\n",
        "usdc_data['macd'] = macd\n",
        "usdc_data['macd_signal'] = signal\n",
        "luna1_data['macd'] = macd\n",
        "luna1_data['macd_signal'] = signal"
      ],
      "metadata": {
        "id": "R8Sq4AspHLgT"
      },
      "execution_count": 153,
      "outputs": []
    },
    {
      "cell_type": "code",
      "source": [
        "avax_data['macd'] = macd\n",
        "avax_data['macd_signal'] = signal\n",
        "dot_data['macd'] = macd\n",
        "dot_data['macd_signal'] = signal\n",
        "doge_data['macd'] = macd\n",
        "doge_data['macd_signal'] = signal\n",
        "shib_data['macd'] = macd\n",
        "shib_data['macd_signal'] = signal\n",
        "matic_data['macd'] = macd\n",
        "matic_data['macd_signal'] = signal\n",
        "ltc_data['macd'] = macd\n",
        "ltc_data['macd_signal'] = signal\n",
        "link_data['macd'] = macd\n",
        "link_data['macd_signal'] = signal"
      ],
      "metadata": {
        "id": "n08VHMk5IOvb"
      },
      "execution_count": 154,
      "outputs": []
    },
    {
      "cell_type": "code",
      "source": [
        "algo_data['macd'] = macd\n",
        "algo_data['macd_signal'] = signal\n",
        "uni_data['macd'] = macd\n",
        "uni_data['macd_signal'] = signal\n",
        "dai_data['macd'] = macd\n",
        "dai_data['macd_signal'] = signal"
      ],
      "metadata": {
        "id": "DVPO3I3ZIxrf"
      },
      "execution_count": 155,
      "outputs": []
    },
    {
      "cell_type": "code",
      "source": [
        "def buy_sell_macd(signal):\n",
        "   buy = []\n",
        "   sell = []\n",
        "   flag = -1\n",
        "\n",
        "   for i in range(0, len(signal)):\n",
        "     if(signal['macd'][i]> signal['macd_signal'][i]):\n",
        "       sell.append(np.nan)\n",
        "       if flag != 1:\n",
        "         buy.append(signal['Close'][i])\n",
        "         flag = 1\n",
        "       else:\n",
        "         buy.append(np.nan)\n",
        "     elif(signal['macd'][i]< signal['macd_signal'][i]):\n",
        "       buy.append(np.nan)\n",
        "       if flag != 0:\n",
        "         sell.append(signal['Close'][i])\n",
        "         flag = 0\n",
        "       else:\n",
        "         sell.append(np.nan)\n",
        "     else:\n",
        "       buy.append(np.nan)\n",
        "       sell.append(np.nan)\n",
        "   return (buy,sell)\n",
        "\n"
      ],
      "metadata": {
        "id": "iqcq3ujsynTh"
      },
      "execution_count": 156,
      "outputs": []
    },
    {
      "cell_type": "code",
      "source": [
        "btc = buy_sell_macd(btc_data)\n",
        "btc_data['buy_signal_macd'] = btc[0]\n",
        "btc_data['sell_signal_macd'] = btc[1]\n",
        "eth = buy_sell_macd(eth_data)\n",
        "eth_data['buy_signal_macd'] = eth[0]\n",
        "eth_data['sell_signal_macd'] = eth[1]\n",
        "bnb = buy_sell_macd(bnb_data)\n",
        "bnb_data['buy_signal_macd'] = bnb[0]\n",
        "bnb_data['sell_signal_macd'] = bnb[1]\n",
        "usdt = buy_sell_macd(usdt_data)\n",
        "usdt_data['buy_signal_macd'] = usdt[0]\n",
        "usdt_data['sell_signal_macd'] = usdt[1]\n",
        "sol = buy_sell_macd(sol_data)\n",
        "sol_data['buy_signal_macd'] = sol[0]\n",
        "sol_data['sell_signal_macd'] = sol[1]\n",
        "hex = buy_sell_macd(hex_data)\n",
        "hex_data['buy_signal_macd'] = hex[0]\n",
        "hex_data['sell_signal_macd'] = hex[1]\n",
        "ada = buy_sell_macd(ada_data)\n",
        "ada_data['buy_signal_macd'] = ada[0]\n",
        "ada_data['sell_signal_macd'] = ada[1]"
      ],
      "metadata": {
        "id": "veAvM_Vn5Zow"
      },
      "execution_count": 171,
      "outputs": []
    },
    {
      "cell_type": "code",
      "source": [
        "xrp = buy_sell_macd(xrp_data)\n",
        "xrp_data['buy_signal_macd'] = xrp[0]\n",
        "xrp_data['sell_signal_macd'] = xrp[1]\n",
        "usdc = buy_sell_macd(usdc_data)\n",
        "usdc_data['buy_signal_macd'] = usdc[0]\n",
        "usdc_data['sell_signal_macd'] = usdc[1]\n",
        "luna1 = buy_sell_macd(luna1_data)\n",
        "luna1_data['buy_signal_macd'] = luna1[0]\n",
        "luna1_data['sell_signal_macd'] = luna1[1]\n",
        "avax = buy_sell_macd(avax_data)\n",
        "avax_data['buy_signal_macd'] = avax[0]\n",
        "avax_data['sell_signal_macd'] = avax[1]\n",
        "dot = buy_sell_macd(dot_data)\n",
        "dot_data['buy_signal_macd'] = dot[0]\n",
        "dot_data['sell_signal_macd'] = dot[1]\n",
        "doge = buy_sell_macd(doge_data)\n",
        "doge_data['buy_signal_macd'] = doge[0]\n",
        "doge_data['sell_signal_macd'] = doge[1]\n",
        "shib = buy_sell_macd(shib_data)\n",
        "shib_data['buy_signal_macd'] = shib[0]\n",
        "shib_data['sell_signal_macd'] = shib[1]"
      ],
      "metadata": {
        "id": "sGUbi_UZJzGE"
      },
      "execution_count": 172,
      "outputs": []
    },
    {
      "cell_type": "code",
      "source": [
        "matic = buy_sell_macd(matic_data)\n",
        "matic_data['buy_signal_macd'] = matic[0]\n",
        "matic_data['sell_signal_macd'] = matic[1]\n",
        "ltc = buy_sell_macd(ltc_data)\n",
        "ltc_data['buy_signal_macd'] = ltc[0]\n",
        "ltc_data['sell_signal_macd'] = ltc[1]\n",
        "link = buy_sell_macd(link_data)\n",
        "link_data['buy_signal_macd'] = link[0]\n",
        "link_data['sell_signal_macd'] = link[1]\n",
        "algo = buy_sell_macd(algo_data)\n",
        "algo_data['buy_signal_macd'] = algo[0]\n",
        "algo_data['sell_signal_macd'] = algo[1]\n",
        "uni = buy_sell_macd(uni_data)\n",
        "uni_data['buy_signal_macd'] = uni[0]\n",
        "uni_data['sell_signal_macd'] = uni[1]\n",
        "dai = buy_sell_macd(dai_data)\n",
        "dai_data['buy_signal_macd'] = dai[0]\n",
        "dai_data['sell_signal_macd'] = dai[1]"
      ],
      "metadata": {
        "id": "53JnNAjoKlnO"
      },
      "execution_count": 173,
      "outputs": []
    },
    {
      "cell_type": "code",
      "source": [
        "plt.figure(figsize = (16.4,4.1))\n",
        "plt.title(stocksymbols[0] + ' Buy and Sell Signal by Macd', color='blue')\n",
        "plt.scatter(btc_data.index, btc_data['buy_signal_macd'], label= 'buy', color ='green', marker = '^', alpha=1)\n",
        "plt.scatter(btc_data.index, btc_data['sell_signal_macd'], label='sell', color='red', marker = 'v', alpha=1)\n",
        "plt.plot(btc_data['Close'], label = 'Close price', alpha = 0.35, color ='violet')\n",
        "plt.xlabel('Date')\n",
        "plt.ylabel('Close prices')\n",
        "plt.show()"
      ],
      "metadata": {
        "id": "yGvFeRRh7Bcp"
      },
      "execution_count": null,
      "outputs": []
    },
    {
      "cell_type": "code",
      "source": [
        "plt.figure(figsize = (16.4,4.1))\n",
        "plt.title(stocksymbols[1] + ' Buy and Sell Signal by Macd', color='blue')\n",
        "plt.scatter(eth_data.index, eth_data['buy_signal_macd'], label= 'buy', color ='green', marker = '^', alpha=1)\n",
        "plt.scatter(eth_data.index, eth_data['sell_signal_macd'], label='sell', color='red', marker = 'v', alpha=1)\n",
        "plt.plot(eth_data['Close'], label = 'Close price', alpha = 0.35, color ='violet')\n",
        "plt.xlabel('Date')\n",
        "plt.ylabel('Close prices')\n",
        "plt.show()"
      ],
      "metadata": {
        "id": "xBePcdNiTDsF"
      },
      "execution_count": null,
      "outputs": []
    },
    {
      "cell_type": "code",
      "source": [
        "plt.figure(figsize = (16.4,4.1))\n",
        "plt.title(stocksymbols[2] + ' Buy and Sell Signal by Macd', color='blue')\n",
        "plt.scatter(bnb_data.index, bnb_data['buy_signal_macd'], label= 'buy', color ='green', marker = '^', alpha=1)\n",
        "plt.scatter(bnb_data.index, bnb_data['sell_signal_macd'], label='sell', color='red', marker = 'v', alpha=1)\n",
        "plt.plot(bnb_data['Close'], label = 'Close price', alpha = 0.35, color ='violet')\n",
        "plt.xlabel('Date')\n",
        "plt.ylabel('Close prices')\n",
        "plt.show()"
      ],
      "metadata": {
        "id": "_ikfJkzMSHem"
      },
      "execution_count": null,
      "outputs": []
    },
    {
      "cell_type": "code",
      "source": [
        "plt.figure(figsize = (16.4,4.1))\n",
        "plt.title(stocksymbols[3] + ' Buy and Sell Signal by Macd', color='blue')\n",
        "plt.scatter(usdt_data.index, usdt_data['buy_signal_macd'], label= 'buy', color ='green', marker = '^', alpha=1)\n",
        "plt.scatter(usdt_data.index, usdt_data['sell_signal_macd'], label='sell', color='red', marker = 'v', alpha=1)\n",
        "plt.plot(usdt_data['Close'], label = 'Close price', alpha = 0.35, color ='violet')\n",
        "plt.xlabel('Date')\n",
        "plt.ylabel('Close prices')\n",
        "plt.show()"
      ],
      "metadata": {
        "id": "HASiWO17TLws"
      },
      "execution_count": null,
      "outputs": []
    },
    {
      "cell_type": "code",
      "source": [
        "plt.figure(figsize = (16.4,4.1))\n",
        "plt.title(stocksymbols[4] + ' Buy and Sell Signal by Macd', color='blue')\n",
        "plt.scatter(sol_data.index, sol_data['buy_signal_macd'], label= 'buy', color ='green', marker = '^', alpha=1)\n",
        "plt.scatter(sol_data.index, sol_data['sell_signal_macd'], label='sell', color='red', marker = 'v', alpha=1)\n",
        "plt.plot(sol_data['Close'], label = 'Close price', alpha = 0.35, color ='violet')\n",
        "plt.xlabel('Date')\n",
        "plt.ylabel('Close prices')\n",
        "plt.show()"
      ],
      "metadata": {
        "id": "_M3MmNOgTVHr"
      },
      "execution_count": null,
      "outputs": []
    },
    {
      "cell_type": "code",
      "source": [
        "plt.figure(figsize = (16.4,4.1))\n",
        "plt.title(stocksymbols[5] + ' Buy and Sell Signal by Macd', color='blue')\n",
        "plt.scatter(hex_data.index, hex_data['buy_signal_macd'], label= 'buy', color ='green', marker = '^', alpha=1)\n",
        "plt.scatter(hex_data.index, hex_data['sell_signal_macd'], label='sell', color='red', marker = 'v', alpha=1)\n",
        "plt.plot(hex_data['Close'], label = 'Close price', alpha = 0.35, color ='violet')\n",
        "plt.xlabel('Date')\n",
        "plt.ylabel('Close prices')\n",
        "plt.show()"
      ],
      "metadata": {
        "id": "7twD9eKjTcvg"
      },
      "execution_count": null,
      "outputs": []
    },
    {
      "cell_type": "code",
      "source": [
        "plt.figure(figsize = (16.4,4.1))\n",
        "plt.title(stocksymbols[6] + ' Buy and Sell Signal by Macd', color='blue')\n",
        "plt.scatter(ada_data.index, ada_data['buy_signal_macd'], label= 'buy', color ='green', marker = '^', alpha=1)\n",
        "plt.scatter(ada_data.index, ada_data['sell_signal_macd'], label='sell', color='red', marker = 'v', alpha=1)\n",
        "plt.plot(ada_data['Close'], label = 'Close price', alpha = 0.35, color ='violet')\n",
        "plt.xlabel('Date')\n",
        "plt.ylabel('Close prices')\n",
        "plt.show()"
      ],
      "metadata": {
        "id": "Pa_WVyKITm_Z"
      },
      "execution_count": null,
      "outputs": []
    },
    {
      "cell_type": "code",
      "source": [
        "plt.figure(figsize = (16.4,4.1))\n",
        "plt.title(stocksymbols[7] + ' Buy and Sell Signal by Macd', color='blue')\n",
        "plt.scatter(xrp_data.index, xrp_data['buy_signal_macd'], label= 'buy', color ='green', marker = '^', alpha=1)\n",
        "plt.scatter(xrp_data.index, xrp_data['sell_signal_macd'], label='sell', color='red', marker = 'v', alpha=1)\n",
        "plt.plot(xrp_data['Close'], label = 'Close price', alpha = 0.35, color ='violet')\n",
        "plt.xlabel('Date')\n",
        "plt.ylabel('Close prices')\n",
        "plt.show()"
      ],
      "metadata": {
        "id": "oRsEfowUTupJ"
      },
      "execution_count": null,
      "outputs": []
    },
    {
      "cell_type": "code",
      "source": [
        "plt.figure(figsize = (16.4,4.1))\n",
        "plt.title(stocksymbols[8] + ' Buy and Sell Signal by Macd', color='blue')\n",
        "plt.scatter(usdc_data.index, usdc_data['buy_signal_macd'], label= 'buy', color ='green', marker = '^', alpha=1)\n",
        "plt.scatter(usdc_data.index, usdc_data['sell_signal_macd'], label='sell', color='red', marker = 'v', alpha=1)\n",
        "plt.plot(usdc_data['Close'], label = 'Close price', alpha = 0.35, color ='violet')\n",
        "plt.xlabel('Date')\n",
        "plt.ylabel('Close prices')\n",
        "plt.show()"
      ],
      "metadata": {
        "id": "8tE9QJlwT4TE"
      },
      "execution_count": null,
      "outputs": []
    },
    {
      "cell_type": "code",
      "source": [
        "plt.figure(figsize = (16.4,4.1))\n",
        "plt.title(stocksymbols[9] + ' Buy and Sell Signal by Macd', color='blue')\n",
        "plt.scatter(luna1_data.index, luna1_data['buy_signal_macd'], label= 'buy', color ='green', marker = '^', alpha=1)\n",
        "plt.scatter(luna1_data.index, luna1_data['sell_signal_macd'], label='sell', color='red', marker = 'v', alpha=1)\n",
        "plt.plot(luna1_data['Close'], label = 'Close price', alpha = 0.35, color ='violet')\n",
        "plt.xlabel('Date')\n",
        "plt.ylabel('Close prices')\n",
        "plt.show()"
      ],
      "metadata": {
        "id": "Lljcf2UkURZH"
      },
      "execution_count": null,
      "outputs": []
    },
    {
      "cell_type": "code",
      "source": [
        "plt.figure(figsize = (16.4,4.1))\n",
        "plt.title(stocksymbols[10] + ' Buy and Sell Signal by Macd', color='blue')\n",
        "plt.scatter(avax_data.index, avax_data['buy_signal_macd'], label= 'buy', color ='green', marker = '^', alpha=1)\n",
        "plt.scatter(avax_data.index, avax_data['sell_signal_macd'], label='sell', color='red', marker = 'v', alpha=1)\n",
        "plt.plot(avax_data['Close'], label = 'Close price', alpha = 0.35, color ='violet')\n",
        "plt.xlabel('Date')\n",
        "plt.ylabel('Close prices')\n",
        "plt.show()"
      ],
      "metadata": {
        "id": "2qvUerHpUhlB"
      },
      "execution_count": null,
      "outputs": []
    },
    {
      "cell_type": "code",
      "source": [
        "plt.figure(figsize = (16.4,4.1))\n",
        "plt.title(stocksymbols[11] + ' Buy and Sell Signal by Macd', color='blue')\n",
        "plt.scatter(dot_data.index, dot_data['buy_signal_macd'], label= 'buy', color ='green', marker = '^', alpha=1)\n",
        "plt.scatter(dot_data.index, dot_data['sell_signal_macd'], label='sell', color='red', marker = 'v', alpha=1)\n",
        "plt.plot(dot_data['Close'], label = 'Close price', alpha = 0.35, color ='violet')\n",
        "plt.xlabel('Date')\n",
        "plt.ylabel('Close prices')\n",
        "plt.show()"
      ],
      "metadata": {
        "id": "fueAtWsvUqGf"
      },
      "execution_count": null,
      "outputs": []
    },
    {
      "cell_type": "code",
      "source": [
        "plt.figure(figsize = (16.4,4.1))\n",
        "plt.title(stocksymbols[12] + ' Buy and Sell Signal by Macd', color='blue')\n",
        "plt.scatter(doge_data.index, doge_data['buy_signal_macd'], label= 'buy', color ='green', marker = '^', alpha=1)\n",
        "plt.scatter(doge_data.index, doge_data['sell_signal_macd'], label='sell', color='red', marker = 'v', alpha=1)\n",
        "plt.plot(doge_data['Close'], label = 'Close price', alpha = 0.35, color ='violet')\n",
        "plt.xlabel('Date')\n",
        "plt.ylabel('Close prices')\n",
        "plt.show()"
      ],
      "metadata": {
        "id": "vzQx-G7IUxdy"
      },
      "execution_count": null,
      "outputs": []
    },
    {
      "cell_type": "code",
      "source": [
        "plt.figure(figsize = (16.4,4.1))\n",
        "plt.title(stocksymbols[13] + ' Buy and Sell Signal by Macd', color='blue')\n",
        "plt.scatter(shib_data.index, shib_data['buy_signal_macd'], label= 'buy', color ='green', marker = '^', alpha=1)\n",
        "plt.scatter(shib_data.index, shib_data['sell_signal_macd'], label='sell', color='red', marker = 'v', alpha=1)\n",
        "plt.plot(shib_data['Close'], label = 'Close price', alpha = 0.35, color ='violet')\n",
        "plt.xlabel('Date')\n",
        "plt.ylabel('Close prices')\n",
        "plt.show()"
      ],
      "metadata": {
        "id": "Ak9St4m7U6jC"
      },
      "execution_count": null,
      "outputs": []
    },
    {
      "cell_type": "code",
      "source": [
        "plt.figure(figsize = (16.4,4.1))\n",
        "plt.title(stocksymbols[14] + ' Buy and Sell Signal by Macd', color='blue')\n",
        "plt.scatter(matic_data.index, matic_data['buy_signal_macd'], label= 'buy', color ='green', marker = '^', alpha=1)\n",
        "plt.scatter(matic_data.index, matic_data['sell_signal_macd'], label='sell', color='red', marker = 'v', alpha=1)\n",
        "plt.plot(matic_data['Close'], label = 'Close price', alpha = 0.35, color ='violet')\n",
        "plt.xlabel('Date')\n",
        "plt.ylabel('Close prices')\n",
        "plt.show()"
      ],
      "metadata": {
        "id": "VpE__bOyVBem"
      },
      "execution_count": null,
      "outputs": []
    },
    {
      "cell_type": "code",
      "source": [
        "plt.figure(figsize = (16.4,4.1))\n",
        "plt.title(stocksymbols[15] + ' Buy and Sell Signal by Macd', color='blue')\n",
        "plt.scatter(ltc_data.index, ltc_data['buy_signal_macd'], label= 'buy', color ='green', marker = '^', alpha=1)\n",
        "plt.scatter(ltc_data.index, ltc_data['sell_signal_macd'], label='sell', color='red', marker = 'v', alpha=1)\n",
        "plt.plot(ltc_data['Close'], label = 'Close price', alpha = 0.35, color ='violet')\n",
        "plt.xlabel('Date')\n",
        "plt.ylabel('Close prices')\n",
        "plt.show()"
      ],
      "metadata": {
        "id": "dDEf-_JaVJaZ"
      },
      "execution_count": null,
      "outputs": []
    },
    {
      "cell_type": "code",
      "source": [
        "plt.figure(figsize = (16.4,4.1))\n",
        "plt.title(stocksymbols[16] + ' Buy and Sell Signal by Macd', color='blue')\n",
        "plt.scatter(link_data.index, link_data['buy_signal_macd'], label= 'buy', color ='green', marker = '^', alpha=1)\n",
        "plt.scatter(link_data.index, link_data['sell_signal_macd'], label='sell', color='red', marker = 'v', alpha=1)\n",
        "plt.plot(link_data['Close'], label = 'Close price', alpha = 0.35, color ='violet')\n",
        "plt.xlabel('Date')\n",
        "plt.ylabel('Close prices')\n",
        "plt.show()"
      ],
      "metadata": {
        "id": "gTJGtvBiVTow"
      },
      "execution_count": null,
      "outputs": []
    },
    {
      "cell_type": "code",
      "source": [
        "plt.figure(figsize = (16.4,4.1))\n",
        "plt.title(stocksymbols[17] + ' Buy and Sell Signal by Macd', color='blue')\n",
        "plt.scatter(algo_data.index, algo_data['buy_signal_macd'], label= 'buy', color ='green', marker = '^', alpha=1)\n",
        "plt.scatter(algo_data.index, algo_data['sell_signal_macd'], label='sell', color='red', marker = 'v', alpha=1)\n",
        "plt.plot(algo_data['Close'], label = 'Close price', alpha = 0.35, color ='violet')\n",
        "plt.xlabel('Date')\n",
        "plt.ylabel('Close prices')\n",
        "plt.show()"
      ],
      "metadata": {
        "id": "uZ9ZtsfZVckc"
      },
      "execution_count": null,
      "outputs": []
    },
    {
      "cell_type": "code",
      "source": [
        "plt.figure(figsize = (16.4,4.1))\n",
        "plt.title(stocksymbols[18] + ' Buy and Sell Signal by Macd', color='blue')\n",
        "plt.scatter(uni_data.index, uni_data['buy_signal_macd'], label= 'buy', color ='green', marker = '^', alpha=1)\n",
        "plt.scatter(uni_data.index, uni_data['sell_signal_macd'], label='sell', color='red', marker = 'v', alpha=1)\n",
        "plt.plot(uni_data['Close'], label = 'Close price', alpha = 0.35, color ='violet')\n",
        "plt.xlabel('Date')\n",
        "plt.ylabel('Close prices')\n",
        "plt.show()"
      ],
      "metadata": {
        "id": "Ngcb9Z5_Vj9v"
      },
      "execution_count": null,
      "outputs": []
    },
    {
      "cell_type": "code",
      "source": [
        "plt.figure(figsize = (16.4,4.1))\n",
        "plt.title(stocksymbols[18] + ' Buy and Sell Signal by Macd', color='blue')\n",
        "plt.scatter(dai_data.index, dai_data['buy_signal_macd'], label= 'buy', color ='green', marker = '^', alpha=1)\n",
        "plt.scatter(dai_data.index, dai_data['sell_signal_macd'], label='sell', color='red', marker = 'v', alpha=1)\n",
        "plt.plot(dai_data['Close'], label = 'Close price', alpha = 0.35, color ='violet')\n",
        "plt.xlabel('Date')\n",
        "plt.ylabel('Close prices')\n",
        "plt.show()"
      ],
      "metadata": {
        "id": "H24SefqyVsXP"
      },
      "execution_count": null,
      "outputs": []
    },
    {
      "cell_type": "code",
      "source": [
        "#for calculating bollinger first define sma function\n",
        "def sma(data, window):\n",
        "    sma = data.rolling(window = window).mean()\n",
        "    return sma"
      ],
      "metadata": {
        "id": "c97Iznpuhd6x"
      },
      "execution_count": 198,
      "outputs": []
    },
    {
      "cell_type": "code",
      "source": [
        "btc_data['sma_20'] = sma(btc_data['Close'], 20)\n",
        "eth_data['sma_20'] = sma(eth_data['Close'], 20)\n",
        "bnb_data['sma_20'] = sma(bnb_data['Close'], 20)\n",
        "usdt_data['sma_20'] = sma(usdt_data['Close'], 20)\n",
        "sol_data['sma_20'] = sma(sol_data['Close'], 20)\n",
        "hex_data['sma_20'] = sma(hex_data['Close'], 20)\n",
        "ada_data['sma_20'] = sma(ada_data['Close'], 20)"
      ],
      "metadata": {
        "id": "mB41cZoShk-q"
      },
      "execution_count": 199,
      "outputs": []
    },
    {
      "cell_type": "code",
      "source": [
        "xrp_data['sma_20'] = sma(xrp_data['Close'], 20)\n",
        "usdc_data['sma_20'] = sma(usdc_data['Close'], 20)\n",
        "luna1_data['sma_20'] = sma(luna1_data['Close'], 20)\n",
        "avax_data['sma_20'] = sma(avax_data['Close'], 20)\n",
        "dot_data['sma_20'] = sma(dot_data['Close'], 20)\n",
        "doge_data['sma_20'] = sma(doge_data['Close'], 20)\n",
        "shib_data['sma_20'] = sma(shib_data['Close'], 20)"
      ],
      "metadata": {
        "id": "mZuJeY2YWONy"
      },
      "execution_count": 200,
      "outputs": []
    },
    {
      "cell_type": "code",
      "source": [
        "matic_data['sma_20'] = sma(matic_data['Close'], 20)\n",
        "ltc_data['sma_20'] = sma(ltc_data['Close'], 20)\n",
        "link_data['sma_20'] = sma(link_data['Close'], 20)\n",
        "algo_data['sma_20'] = sma(algo_data['Close'], 20)\n",
        "uni_data['sma_20'] = sma(uni_data['Close'], 20)\n",
        "dai_data['sma_20'] = sma(dai_data['Close'], 20)"
      ],
      "metadata": {
        "id": "4GnFTfxXWju2"
      },
      "execution_count": 201,
      "outputs": []
    },
    {
      "cell_type": "code",
      "source": [
        "#bollinger method\n",
        "def bb(data, sma, window):\n",
        "    std = data.rolling(window = window).std()\n",
        "    upper_bb = sma + std * 2\n",
        "    lower_bb = sma - std * 2\n",
        "    return upper_bb, lower_bb"
      ],
      "metadata": {
        "id": "E3pJB61Br9u_"
      },
      "execution_count": 202,
      "outputs": []
    },
    {
      "cell_type": "code",
      "source": [
        "btc_data['upper_bb'], btc_data['lower_bb'] = bb(btc_data['Close'], btc_data['sma_20'], 20)\n",
        "eth_data['upper_bb'], eth_data['lower_bb'] = bb(eth_data['Close'], eth_data['sma_20'], 20)\n",
        "bnb_data['upper_bb'], bnb_data['lower_bb'] = bb(bnb_data['Close'], bnb_data['sma_20'], 20)\n",
        "usdt_data['upper_bb'], usdt_data['lower_bb'] = bb(usdt_data['Close'], usdt_data['sma_20'], 20)\n",
        "sol_data['upper_bb'], sol_data['lower_bb'] = bb(sol_data['Close'], sol_data['sma_20'], 20)\n",
        "hex_data['upper_bb'], hex_data['lower_bb'] = bb(hex_data['Close'], hex_data['sma_20'], 20)\n",
        "ada_data['upper_bb'], ada_data['lower_bb'] = bb(ada_data['Close'], ada_data['sma_20'], 20)"
      ],
      "metadata": {
        "id": "pUt32r32i7DS"
      },
      "execution_count": 203,
      "outputs": []
    },
    {
      "cell_type": "code",
      "source": [
        "xrp_data['upper_bb'], xrp_data['lower_bb'] = bb(xrp_data['Close'], xrp_data['sma_20'], 20)\n",
        "usdc_data['upper_bb'], usdc_data['lower_bb'] = bb(usdc_data['Close'], usdc_data['sma_20'], 20)\n",
        "luna1_data['upper_bb'], luna1_data['lower_bb'] = bb(luna1_data['Close'], luna1_data['sma_20'], 20)\n",
        "avax_data['upper_bb'], avax_data['lower_bb'] = bb(avax_data['Close'], avax_data['sma_20'], 20)\n",
        "dot_data['upper_bb'], dot_data['lower_bb'] = bb(dot_data['Close'], dot_data['sma_20'], 20)\n",
        "doge_data['upper_bb'], doge_data['lower_bb'] = bb(doge_data['Close'], doge_data['sma_20'], 20)\n",
        "shib_data['upper_bb'], shib_data['lower_bb'] = bb(shib_data['Close'], shib_data['sma_20'], 20)"
      ],
      "metadata": {
        "id": "jQb0uFqkYu-s"
      },
      "execution_count": 204,
      "outputs": []
    },
    {
      "cell_type": "code",
      "source": [
        "matic_data['upper_bb'], matic_data['lower_bb'] = bb(matic_data['Close'], matic_data['sma_20'], 20)\n",
        "ltc_data['upper_bb'], ltc_data['lower_bb'] = bb(ltc_data['Close'], ltc_data['sma_20'], 20)\n",
        "link_data['upper_bb'], link_data['lower_bb'] = bb(link_data['Close'], link_data['sma_20'], 20)\n",
        "algo_data['upper_bb'], algo_data['lower_bb'] = bb(algo_data['Close'], algo_data['sma_20'], 20)\n",
        "uni_data['upper_bb'], uni_data['lower_bb'] = bb(uni_data['Close'], uni_data['sma_20'], 20)\n",
        "dai_data['upper_bb'], dai_data['lower_bb'] = bb(dai_data['Close'], dai_data['sma_20'], 20)"
      ],
      "metadata": {
        "id": "9qcUtBrGZU2s"
      },
      "execution_count": 205,
      "outputs": []
    },
    {
      "cell_type": "code",
      "source": [
        "btc_data['Close'].plot(label = 'CLOSE PRICES', color = 'skyblue',figsize =(16,4))\n",
        "btc_data['upper_bb'].plot(label = 'UPPER BB 20', linestyle = '--', linewidth = 1, color = 'black')\n",
        "btc_data['sma_20'].plot(label = 'MIDDLE BB 20', linestyle = '--', linewidth = 1.2, color = 'violet')\n",
        "btc_data['lower_bb'].plot(label = 'LOWER BB 20', linestyle = '--', linewidth = 1, color = 'black')\n",
        "plt.legend(loc = 'upper left')\n",
        "plt.title('BTC BOLLINGER BANDS')\n",
        "plt.show()"
      ],
      "metadata": {
        "id": "FZ3dPaCYjTZC"
      },
      "execution_count": null,
      "outputs": []
    },
    {
      "cell_type": "code",
      "source": [
        "def implement_bb_strategy(data, lower_bb, upper_bb):\n",
        "    buy_price = []\n",
        "    sell_price = []\n",
        "    bb_signal = []\n",
        "    signal = 0\n",
        "    \n",
        "    for i in range(len(data)):\n",
        "        if data[i-1] > lower_bb[i-1] and data[i] < lower_bb[i]:\n",
        "            if signal != 1:\n",
        "                buy_price.append(data[i])\n",
        "                sell_price.append(np.nan)\n",
        "                signal = 1\n",
        "                bb_signal.append(signal)\n",
        "            else:\n",
        "                buy_price.append(np.nan)\n",
        "                sell_price.append(np.nan)\n",
        "                bb_signal.append(0)\n",
        "        elif data[i-1] < upper_bb[i-1] and data[i] > upper_bb[i]:\n",
        "            if signal != -1:\n",
        "                buy_price.append(np.nan)\n",
        "                sell_price.append(data[i])\n",
        "                signal = -1\n",
        "                bb_signal.append(signal)\n",
        "            else:\n",
        "                buy_price.append(np.nan)\n",
        "                sell_price.append(np.nan)\n",
        "                bb_signal.append(0)\n",
        "        else:\n",
        "            buy_price.append(np.nan)\n",
        "            sell_price.append(np.nan)\n",
        "            bb_signal.append(0)\n",
        "            \n",
        "    return buy_price, sell_price, bb_signal"
      ],
      "metadata": {
        "id": "LN0KG0vQljy1"
      },
      "execution_count": 212,
      "outputs": []
    },
    {
      "cell_type": "code",
      "source": [
        "buy_price, sell_price, bb_signal = implement_bb_strategy(btc_data['Close'], btc_data['lower_bb'], btc_data['upper_bb'])\n",
        "btc_data['buy_signal_bb'] = buy_price\n",
        "btc_data['sell_signal_bb'] = sell_price\n",
        "buy_price, sell_price, bb_signal = implement_bb_strategy(eth_data['Close'], eth_data['lower_bb'], eth_data['upper_bb'])\n",
        "eth_data['buy_signal_bb'] = buy_price\n",
        "eth_data['sell_signal_bb'] = sell_price\n",
        "buy_price, sell_price, bb_signal = implement_bb_strategy(bnb_data['Close'], bnb_data['lower_bb'], bnb_data['upper_bb'])\n",
        "bnb_data['buy_signal_bb'] = buy_price\n",
        "bnb_data['sell_signal_bb'] = sell_price\n",
        "buy_price, sell_price, bb_signal = implement_bb_strategy(usdt_data['Close'], usdt_data['lower_bb'], usdt_data['upper_bb'])\n",
        "usdt_data['buy_signal_bb'] = buy_price\n",
        "usdt_data['sell_signal_bb'] = sell_price\n",
        "buy_price, sell_price, bb_signal = implement_bb_strategy(sol_data['Close'], sol_data['lower_bb'], sol_data['upper_bb'])\n",
        "sol_data['buy_signal_bb'] = buy_price\n",
        "sol_data['sell_signal_bb'] = sell_price\n",
        "buy_price, sell_price, bb_signal = implement_bb_strategy(hex_data['Close'], hex_data['lower_bb'], hex_data['upper_bb'])\n",
        "hex_data['buy_signal_bb'] = buy_price\n",
        "hex_data['sell_signal_bb'] = sell_price\n",
        "buy_price, sell_price, bb_signal = implement_bb_strategy(ada_data['Close'], ada_data['lower_bb'], ada_data['upper_bb'])\n",
        "ada_data['buy_signal_bb'] = buy_price\n",
        "ada_data['sell_signal_bb'] = sell_price"
      ],
      "metadata": {
        "id": "yGqlpWu-lqkc"
      },
      "execution_count": 225,
      "outputs": []
    },
    {
      "cell_type": "code",
      "source": [
        "buy_price, sell_price, bb_signal = implement_bb_strategy(xrp_data['Close'], xrp_data['lower_bb'], xrp_data['upper_bb'])\n",
        "xrp_data['buy_signal_bb'] = buy_price\n",
        "xrp_data['sell_signal_bb'] = sell_price\n",
        "buy_price, sell_price, bb_signal = implement_bb_strategy(usdc_data['Close'], usdc_data['lower_bb'], usdc_data['upper_bb'])\n",
        "usdc_data['buy_signal_bb'] = buy_price\n",
        "usdc_data['sell_signal_bb'] = sell_price\n",
        "buy_price, sell_price, bb_signal = implement_bb_strategy(luna1_data['Close'], luna1_data['lower_bb'], luna1_data['upper_bb'])\n",
        "luna1_data['buy_signal_bb'] = buy_price\n",
        "luna1_data['sell_signal_bb'] = sell_price\n",
        "buy_price, sell_price, bb_signal = implement_bb_strategy(avax_data['Close'], avax_data['lower_bb'], avax_data['upper_bb'])\n",
        "avax_data['buy_signal_bb'] = buy_price\n",
        "avax_data['sell_signal_bb'] = sell_price\n",
        "buy_price, sell_price, bb_signal = implement_bb_strategy(dot_data['Close'], dot_data['lower_bb'], dot_data['upper_bb'])\n",
        "dot_data['buy_signal_bb'] = buy_price\n",
        "dot_data['sell_signal_bb'] = sell_price\n",
        "buy_price, sell_price, bb_signal = implement_bb_strategy(doge_data['Close'], doge_data['lower_bb'], doge_data['upper_bb'])\n",
        "doge_data['buy_signal_bb'] = buy_price\n",
        "doge_data['sell_signal_bb'] = sell_price\n",
        "buy_price, sell_price, bb_signal = implement_bb_strategy(shib_data['Close'], shib_data['lower_bb'], shib_data['upper_bb'])\n",
        "shib_data['buy_signal_bb'] = buy_price\n",
        "shib_data['sell_signal_bb'] = sell_price"
      ],
      "metadata": {
        "id": "tdsn_9fNaW8e"
      },
      "execution_count": 226,
      "outputs": []
    },
    {
      "cell_type": "code",
      "source": [
        "buy_price, sell_price, bb_signal = implement_bb_strategy(matic_data['Close'], matic_data['lower_bb'], matic_data['upper_bb'])\n",
        "matic_data['buy_signal_bb'] = buy_price\n",
        "matic_data['sell_signal_bb'] = sell_price\n",
        "buy_price, sell_price, bb_signal = implement_bb_strategy(ltc_data['Close'], ltc_data['lower_bb'], ltc_data['upper_bb'])\n",
        "ltc_data['buy_signal_bb'] = buy_price\n",
        "ltc_data['sell_signal_bb'] = sell_price\n",
        "buy_price, sell_price, bb_signal = implement_bb_strategy(link_data['Close'], link_data['lower_bb'], link_data['upper_bb'])\n",
        "link_data['buy_signal_bb'] = buy_price\n",
        "link_data['sell_signal_bb'] = sell_price\n",
        "buy_price, sell_price, bb_signal = implement_bb_strategy(algo_data['Close'], algo_data['lower_bb'], algo_data['upper_bb'])\n",
        "algo_data['buy_signal_bb'] = buy_price\n",
        "algo_data['sell_signal_bb'] = sell_price\n",
        "buy_price, sell_price, bb_signal = implement_bb_strategy(uni_data['Close'], uni_data['lower_bb'], uni_data['upper_bb'])\n",
        "uni_data['buy_signal_bb'] = buy_price\n",
        "uni_data['sell_signal_bb'] = sell_price\n",
        "buy_price, sell_price, bb_signal = implement_bb_strategy(dai_data['Close'], dai_data['lower_bb'], dai_data['upper_bb'])\n",
        "dai_data['buy_signal_bb'] = buy_price\n",
        "dai_data['sell_signal_bb'] = sell_price"
      ],
      "metadata": {
        "id": "3afQhHdDbjPM"
      },
      "execution_count": 227,
      "outputs": []
    },
    {
      "cell_type": "code",
      "source": [
        "btc_data['Close'].plot(label = 'CLOSE PRICES', alpha = 0.3, figsize =(16,4))\n",
        "btc_data['upper_bb'].plot(label = 'UPPER BB', linestyle = '--', linewidth = 1, color = 'black')\n",
        "btc_data['sma_20'].plot(label = 'MIDDLE BB', linestyle = '--', linewidth = 1.2, color = 'violet')\n",
        "btc_data['lower_bb'].plot(label = 'LOWER BB', linestyle = '--', linewidth = 1, color = 'black')\n",
        "plt.scatter(btc_data.index, btc_data['buy_signal_bb'], marker = '^', color = 'green', label = 'BUY', s = 60)\n",
        "plt.scatter(btc_data.index, btc_data['sell_signal_bb'], marker = 'v', color = 'red', label = 'SELL', s = 60)\n",
        "plt.title( stocksymbols[0] + ' Buy and Sell Signal by Bollinger Bands')\n",
        "plt.legend(loc = 'upper left')\n",
        "plt.show()"
      ],
      "metadata": {
        "id": "kg6QykJYm5wN",
        "colab": {
          "base_uri": "https://localhost:8080/",
          "height": 252
        },
        "outputId": "a0642f68-40c3-4a2d-b176-a53d9d0caa0a"
      },
      "execution_count": 233,
      "outputs": [
        {
          "output_type": "display_data",
          "data": {
            "image/png": "[encoded data removed]",
            "text/plain": [
              "<Figure size 1152x288 with 1 Axes>"
            ]
          },
          "metadata": {
            "needs_background": "light"
          }
        }
      ]
    },
    {
      "cell_type": "code",
      "source": [
        "eth_data['Close'].plot(label = 'CLOSE PRICES', alpha = 0.3, figsize =(16,4))\n",
        "eth_data['upper_bb'].plot(label = 'UPPER BB', linestyle = '--', linewidth = 1, color = 'black')\n",
        "eth_data['sma_20'].plot(label = 'MIDDLE BB', linestyle = '--', linewidth = 1.2, color = 'violet')\n",
        "eth_data['lower_bb'].plot(label = 'LOWER BB', linestyle = '--', linewidth = 1, color = 'black')\n",
        "plt.scatter(eth_data.index, eth_data['buy_signal_bb'], marker = '^', color = 'green', label = 'BUY', s = 60)\n",
        "plt.scatter(eth_data.index, eth_data['sell_signal_bb'], marker = 'v', color = 'red', label = 'SELL', s = 60)\n",
        "plt.title( stocksymbols[1] + ' Buy and Sell Signal by Bollinger Bands')\n",
        "plt.legend(loc = 'upper left')\n",
        "plt.show()"
      ],
      "metadata": {
        "id": "T7BFcAuvm2Rl"
      },
      "execution_count": null,
      "outputs": []
    },
    {
      "cell_type": "code",
      "source": [
        "bnb_data['Close'].plot(label = 'CLOSE PRICES', alpha = 0.3, figsize =(16,4))\n",
        "bnb_data['upper_bb'].plot(label = 'UPPER BB', linestyle = '--', linewidth = 1, color = 'black')\n",
        "bnb_data['sma_20'].plot(label = 'MIDDLE BB', linestyle = '--', linewidth = 1.2, color = 'violet')\n",
        "bnb_data['lower_bb'].plot(label = 'LOWER BB', linestyle = '--', linewidth = 1, color = 'black')\n",
        "plt.scatter(bnb_data.index, bnb_data['buy_signal_bb'], marker = '^', color = 'green', label = 'BUY', s = 60)\n",
        "plt.scatter(bnb_data.index, bnb_data['sell_signal_bb'], marker = 'v', color = 'red', label = 'SELL', s = 60)\n",
        "plt.title( stocksymbols[2] + ' Buy and Sell Signal by Bollinger Bands')\n",
        "plt.legend(loc = 'upper left')\n",
        "plt.show()"
      ],
      "metadata": {
        "id": "KMEno4dcnCAS"
      },
      "execution_count": null,
      "outputs": []
    },
    {
      "cell_type": "code",
      "source": [
        "usdt_data['Close'].plot(label = 'CLOSE PRICES', alpha = 0.3, figsize =(16,4))\n",
        "usdt_data['upper_bb'].plot(label = 'UPPER BB', linestyle = '--', linewidth = 1, color = 'black')\n",
        "usdt_data['sma_20'].plot(label = 'MIDDLE BB', linestyle = '--', linewidth = 1.2, color = 'violet')\n",
        "usdt_data['lower_bb'].plot(label = 'LOWER BB', linestyle = '--', linewidth = 1, color = 'black')\n",
        "plt.scatter(usdt_data.index, usdt_data['buy_signal_bb'], marker = '^', color = 'green', label = 'BUY', s = 60)\n",
        "plt.scatter(usdt_data.index, usdt_data['sell_signal_bb'], marker = 'v', color = 'red', label = 'SELL', s = 60)\n",
        "plt.title( stocksymbols[3] + ' Buy and Sell Signal by Bollinger Bands')\n",
        "plt.legend(loc = 'upper left')\n",
        "plt.show()"
      ],
      "metadata": {
        "id": "OKQSwaT_nPaf"
      },
      "execution_count": null,
      "outputs": []
    },
    {
      "cell_type": "code",
      "source": [
        "sol_data['Close'].plot(label = 'CLOSE PRICES', alpha = 0.3, figsize =(16,4))\n",
        "sol_data['upper_bb'].plot(label = 'UPPER BB', linestyle = '--', linewidth = 1, color = 'black')\n",
        "sol_data['sma_20'].plot(label = 'MIDDLE BB', linestyle = '--', linewidth = 1.2, color = 'violet')\n",
        "sol_data['lower_bb'].plot(label = 'LOWER BB', linestyle = '--', linewidth = 1, color = 'black')\n",
        "plt.scatter(sol_data.index, sol_data['buy_signal_bb'], marker = '^', color = 'green', label = 'BUY', s = 60)\n",
        "plt.scatter(sol_data.index, sol_data['sell_signal_bb'], marker = 'v', color = 'red', label = 'SELL', s = 60)\n",
        "plt.title( stocksymbols[4] + ' Buy and Sell Signal by Bollinger Bands')\n",
        "plt.legend(loc = 'upper left')\n",
        "plt.show()"
      ],
      "metadata": {
        "id": "_mRd4US1nXqO"
      },
      "execution_count": null,
      "outputs": []
    },
    {
      "cell_type": "code",
      "source": [
        "hex_data['Close'].plot(label = 'CLOSE PRICES', alpha = 0.3, figsize =(16,4))\n",
        "hex_data['upper_bb'].plot(label = 'UPPER BB', linestyle = '--', linewidth = 1, color = 'black')\n",
        "hex_data['sma_20'].plot(label = 'MIDDLE BB', linestyle = '--', linewidth = 1.2, color = 'violet')\n",
        "hex_data['lower_bb'].plot(label = 'LOWER BB', linestyle = '--', linewidth = 1, color = 'black')\n",
        "plt.scatter(hex_data.index, hex_data['buy_signal_bb'], marker = '^', color = 'green', label = 'BUY', s = 60)\n",
        "plt.scatter(hex_data.index, hex_data['sell_signal_bb'], marker = 'v', color = 'red', label = 'SELL', s = 60)\n",
        "plt.title( stocksymbols[5] + ' Buy and Sell Signal by Bollinger Bands')\n",
        "plt.legend(loc = 'upper left')\n",
        "plt.show()"
      ],
      "metadata": {
        "id": "TxeBQ486n5GW"
      },
      "execution_count": null,
      "outputs": []
    },
    {
      "cell_type": "code",
      "source": [
        "ada_data['Close'].plot(label = 'CLOSE PRICES', alpha = 0.3, figsize =(16,4))\n",
        "ada_data['upper_bb'].plot(label = 'UPPER BB', linestyle = '--', linewidth = 1, color = 'black')\n",
        "ada_data['sma_20'].plot(label = 'MIDDLE BB', linestyle = '--', linewidth = 1.2, color = 'violet')\n",
        "ada_data['lower_bb'].plot(label = 'LOWER BB', linestyle = '--', linewidth = 1, color = 'black')\n",
        "plt.scatter(ada_data.index, ada_data['buy_signal_bb'], marker = '^', color = 'green', label = 'BUY', s = 60)\n",
        "plt.scatter(ada_data.index, ada_data['sell_signal_bb'], marker = 'v', color = 'red', label = 'SELL', s = 60)\n",
        "plt.title( stocksymbols[6] + ' Buy and Sell Signal by Bollinger Bands')\n",
        "plt.legend(loc = 'upper left')\n",
        "plt.show()"
      ],
      "metadata": {
        "id": "XwXvC8gWoE3i"
      },
      "execution_count": null,
      "outputs": []
    },
    {
      "cell_type": "code",
      "source": [
        "xrp_data['Close'].plot(label = 'CLOSE PRICES', alpha = 0.3, figsize =(16,4))\n",
        "xrp_data['upper_bb'].plot(label = 'UPPER BB', linestyle = '--', linewidth = 1, color = 'black')\n",
        "xrp_data['sma_20'].plot(label = 'MIDDLE BB', linestyle = '--', linewidth = 1.2, color = 'violet')\n",
        "xrp_data['lower_bb'].plot(label = 'LOWER BB', linestyle = '--', linewidth = 1, color = 'black')\n",
        "plt.scatter(xrp_data.index, xrp_data['buy_signal_bb'], marker = '^', color = 'green', label = 'BUY', s = 60)\n",
        "plt.scatter(xrp_data.index, xrp_data['sell_signal_bb'], marker = 'v', color = 'red', label = 'SELL', s = 60)\n",
        "plt.title( stocksymbols[7] + ' Buy and Sell Signal by Bollinger Bands')\n",
        "plt.legend(loc = 'upper left')\n",
        "plt.show()"
      ],
      "metadata": {
        "id": "JU7UvFEToLJa"
      },
      "execution_count": null,
      "outputs": []
    },
    {
      "cell_type": "code",
      "source": [
        "usdc_data['Close'].plot(label = 'CLOSE PRICES', alpha = 0.3, figsize =(16,4))\n",
        "usdc_data['upper_bb'].plot(label = 'UPPER BB', linestyle = '--', linewidth = 1, color = 'black')\n",
        "usdc_data['sma_20'].plot(label = 'MIDDLE BB', linestyle = '--', linewidth = 1.2, color = 'violet')\n",
        "usdc_data['lower_bb'].plot(label = 'LOWER BB', linestyle = '--', linewidth = 1, color = 'black')\n",
        "plt.scatter(usdc_data.index, usdc_data['buy_signal_bb'], marker = '^', color = 'green', label = 'BUY', s = 60)\n",
        "plt.scatter(usdc_data.index, usdc_data['sell_signal_bb'], marker = 'v', color = 'red', label = 'SELL', s = 60)\n",
        "plt.title( stocksymbols[8] + ' Buy and Sell Signal by Bollinger Bands')\n",
        "plt.legend(loc = 'upper left')\n",
        "plt.show()"
      ],
      "metadata": {
        "id": "7QeT_CBYoVE_"
      },
      "execution_count": null,
      "outputs": []
    },
    {
      "cell_type": "code",
      "source": [
        "luna1_data['Close'].plot(label = 'CLOSE PRICES', alpha = 0.3, figsize =(16,4))\n",
        "luna1_data['upper_bb'].plot(label = 'UPPER BB', linestyle = '--', linewidth = 1, color = 'black')\n",
        "luna1_data['sma_20'].plot(label = 'MIDDLE BB', linestyle = '--', linewidth = 1.2, color = 'violet')\n",
        "luna1_data['lower_bb'].plot(label = 'LOWER BB', linestyle = '--', linewidth = 1, color = 'black')\n",
        "plt.scatter(luna1_data.index, luna1_data['buy_signal_bb'], marker = '^', color = 'green', label = 'BUY', s = 60)\n",
        "plt.scatter(luna1_data.index, luna1_data['sell_signal_bb'], marker = 'v', color = 'red', label = 'SELL', s = 60)\n",
        "plt.title( stocksymbols[9] + ' Buy and Sell Signal by Bollinger Bands')\n",
        "plt.legend(loc = 'upper left')\n",
        "plt.show()"
      ],
      "metadata": {
        "id": "CyeUnVHIocWi"
      },
      "execution_count": null,
      "outputs": []
    },
    {
      "cell_type": "code",
      "source": [
        "avax_data['Close'].plot(label = 'CLOSE PRICES', alpha = 0.3, figsize =(16,4))\n",
        "avax_data['upper_bb'].plot(label = 'UPPER BB', linestyle = '--', linewidth = 1, color = 'black')\n",
        "avax_data['sma_20'].plot(label = 'MIDDLE BB', linestyle = '--', linewidth = 1.2, color = 'violet')\n",
        "avax_data['lower_bb'].plot(label = 'LOWER BB', linestyle = '--', linewidth = 1, color = 'black')\n",
        "plt.scatter(avax_data.index, avax_data['buy_signal_bb'], marker = '^', color = 'green', label = 'BUY', s = 60)\n",
        "plt.scatter(avax_data.index, avax_data['sell_signal_bb'], marker = 'v', color = 'red', label = 'SELL', s = 60)\n",
        "plt.title( stocksymbols[10] + ' Buy and Sell Signal by Bollinger Bands')\n",
        "plt.legend(loc = 'upper left')\n",
        "plt.show()"
      ],
      "metadata": {
        "id": "uYHyOFV-ok8S"
      },
      "execution_count": null,
      "outputs": []
    },
    {
      "cell_type": "code",
      "source": [
        "dot_data['Close'].plot(label = 'CLOSE PRICES', alpha = 0.3, figsize =(16,4))\n",
        "dot_data['upper_bb'].plot(label = 'UPPER BB', linestyle = '--', linewidth = 1, color = 'black')\n",
        "dot_data['sma_20'].plot(label = 'MIDDLE BB', linestyle = '--', linewidth = 1.2, color = 'violet')\n",
        "dot_data['lower_bb'].plot(label = 'LOWER BB', linestyle = '--', linewidth = 1, color = 'black')\n",
        "plt.scatter(dot_data.index, dot_data['buy_signal_bb'], marker = '^', color = 'green', label = 'BUY', s = 60)\n",
        "plt.scatter(dot_data.index, dot_data['sell_signal_bb'], marker = 'v', color = 'red', label = 'SELL', s = 60)\n",
        "plt.title( stocksymbols[11] + ' Buy and Sell Signal by Bollinger Bands')\n",
        "plt.legend(loc = 'upper left')\n",
        "plt.show()"
      ],
      "metadata": {
        "id": "40mcpWQHouf-"
      },
      "execution_count": null,
      "outputs": []
    },
    {
      "cell_type": "code",
      "source": [
        "doge_data['Close'].plot(label = 'CLOSE PRICES', alpha = 0.3, figsize =(16,4))\n",
        "doge_data['upper_bb'].plot(label = 'UPPER BB', linestyle = '--', linewidth = 1, color = 'black')\n",
        "doge_data['sma_20'].plot(label = 'MIDDLE BB', linestyle = '--', linewidth = 1.2, color = 'violet')\n",
        "doge_data['lower_bb'].plot(label = 'LOWER BB', linestyle = '--', linewidth = 1, color = 'black')\n",
        "plt.scatter(doge_data.index, doge_data['buy_signal_bb'], marker = '^', color = 'green', label = 'BUY', s = 60)\n",
        "plt.scatter(doge_data.index, doge_data['sell_signal_bb'], marker = 'v', color = 'red', label = 'SELL', s = 60)\n",
        "plt.title( stocksymbols[12] + ' Buy and Sell Signal by Bollinger Bands')\n",
        "plt.legend(loc = 'upper left')\n",
        "plt.show()"
      ],
      "metadata": {
        "id": "nG3NfPuHo264"
      },
      "execution_count": null,
      "outputs": []
    },
    {
      "cell_type": "code",
      "source": [
        "shib_data['Close'].plot(label = 'CLOSE PRICES', alpha = 0.3, figsize =(16,4))\n",
        "shib_data['upper_bb'].plot(label = 'UPPER BB', linestyle = '--', linewidth = 1, color = 'black')\n",
        "shib_data['sma_20'].plot(label = 'MIDDLE BB', linestyle = '--', linewidth = 1.2, color = 'violet')\n",
        "shib_data['lower_bb'].plot(label = 'LOWER BB', linestyle = '--', linewidth = 1, color = 'black')\n",
        "plt.scatter(shib_data.index, shib_data['buy_signal_bb'], marker = '^', color = 'green', label = 'BUY', s = 60)\n",
        "plt.scatter(shib_data.index, shib_data['sell_signal_bb'], marker = 'v', color = 'red', label = 'SELL', s = 60)\n",
        "plt.title( stocksymbols[13] + ' Buy and Sell Signal by Bollinger Bands')\n",
        "plt.legend(loc = 'upper left')\n",
        "plt.show()"
      ],
      "metadata": {
        "id": "JMSlUVm3pAJs"
      },
      "execution_count": null,
      "outputs": []
    },
    {
      "cell_type": "code",
      "source": [
        "matic_data['Close'].plot(label = 'CLOSE PRICES', alpha = 0.3, figsize =(16,4))\n",
        "matic_data['upper_bb'].plot(label = 'UPPER BB', linestyle = '--', linewidth = 1, color = 'black')\n",
        "matic_data['sma_20'].plot(label = 'MIDDLE BB', linestyle = '--', linewidth = 1.2, color = 'violet')\n",
        "matic_data['lower_bb'].plot(label = 'LOWER BB', linestyle = '--', linewidth = 1, color = 'black')\n",
        "plt.scatter(matic_data.index, matic_data['buy_signal_bb'], marker = '^', color = 'green', label = 'BUY', s = 60)\n",
        "plt.scatter(matic_data.index, matic_data['sell_signal_bb'], marker = 'v', color = 'red', label = 'SELL', s = 60)\n",
        "plt.title( stocksymbols[14] + ' Buy and Sell Signal by Bollinger Bands')\n",
        "plt.legend(loc = 'upper left')\n",
        "plt.show()"
      ],
      "metadata": {
        "id": "PZbMNOHgpICH"
      },
      "execution_count": null,
      "outputs": []
    },
    {
      "cell_type": "code",
      "source": [
        "ltc_data['Close'].plot(label = 'CLOSE PRICES', alpha = 0.3, figsize =(16,4))\n",
        "ltc_data['upper_bb'].plot(label = 'UPPER BB', linestyle = '--', linewidth = 1, color = 'black')\n",
        "ltc_data['sma_20'].plot(label = 'MIDDLE BB', linestyle = '--', linewidth = 1.2, color = 'violet')\n",
        "ltc_data['lower_bb'].plot(label = 'LOWER BB', linestyle = '--', linewidth = 1, color = 'black')\n",
        "plt.scatter(ltc_data.index, ltc_data['buy_signal_bb'], marker = '^', color = 'green', label = 'BUY', s = 60)\n",
        "plt.scatter(ltc_data.index, ltc_data['sell_signal_bb'], marker = 'v', color = 'red', label = 'SELL', s = 60)\n",
        "plt.title( stocksymbols[15] + ' Buy and Sell Signal by Bollinger Bands')\n",
        "plt.legend(loc = 'upper left')\n",
        "plt.show()"
      ],
      "metadata": {
        "id": "Rf6ZivVMpO7O"
      },
      "execution_count": null,
      "outputs": []
    },
    {
      "cell_type": "code",
      "source": [
        "link_data['Close'].plot(label = 'CLOSE PRICES', alpha = 0.3, figsize =(16,4))\n",
        "link_data['upper_bb'].plot(label = 'UPPER BB', linestyle = '--', linewidth = 1, color = 'black')\n",
        "link_data['sma_20'].plot(label = 'MIDDLE BB', linestyle = '--', linewidth = 1.2, color = 'violet')\n",
        "link_data['lower_bb'].plot(label = 'LOWER BB', linestyle = '--', linewidth = 1, color = 'black')\n",
        "plt.scatter(link_data.index, link_data['buy_signal_bb'], marker = '^', color = 'green', label = 'BUY', s = 60)\n",
        "plt.scatter(link_data.index, link_data['sell_signal_bb'], marker = 'v', color = 'red', label = 'SELL', s = 60)\n",
        "plt.title( stocksymbols[16] + ' Buy and Sell Signal by Bollinger Bands')\n",
        "plt.legend(loc = 'upper left')\n",
        "plt.show()"
      ],
      "metadata": {
        "id": "HGUg9iCPpXOf"
      },
      "execution_count": null,
      "outputs": []
    },
    {
      "cell_type": "code",
      "source": [
        "algo_data['Close'].plot(label = 'CLOSE PRICES', alpha = 0.3, figsize =(16,4))\n",
        "algo_data['upper_bb'].plot(label = 'UPPER BB', linestyle = '--', linewidth = 1, color = 'black')\n",
        "algo_data['sma_20'].plot(label = 'MIDDLE BB', linestyle = '--', linewidth = 1.2, color = 'violet')\n",
        "algo_data['lower_bb'].plot(label = 'LOWER BB', linestyle = '--', linewidth = 1, color = 'black')\n",
        "plt.scatter(algo_data.index, algo_data['buy_signal_bb'], marker = '^', color = 'green', label = 'BUY', s = 60)\n",
        "plt.scatter(algo_data.index, algo_data['sell_signal_bb'], marker = 'v', color = 'red', label = 'SELL', s = 60)\n",
        "plt.title( stocksymbols[17] + ' Buy and Sell Signal by Bollinger Bands')\n",
        "plt.legend(loc = 'upper left')\n",
        "plt.show()"
      ],
      "metadata": {
        "id": "9ihavDhzpec_"
      },
      "execution_count": null,
      "outputs": []
    },
    {
      "cell_type": "code",
      "source": [
        "uni_data['Close'].plot(label = 'CLOSE PRICES', alpha = 0.3, figsize =(16,4))\n",
        "uni_data['upper_bb'].plot(label = 'UPPER BB', linestyle = '--', linewidth = 1, color = 'black')\n",
        "uni_data['sma_20'].plot(label = 'MIDDLE BB', linestyle = '--', linewidth = 1.2, color = 'violet')\n",
        "uni_data['lower_bb'].plot(label = 'LOWER BB', linestyle = '--', linewidth = 1, color = 'black')\n",
        "plt.scatter(uni_data.index, uni_data['buy_signal_bb'], marker = '^', color = 'green', label = 'BUY', s = 60)\n",
        "plt.scatter(uni_data.index, uni_data['sell_signal_bb'], marker = 'v', color = 'red', label = 'SELL', s = 60)\n",
        "plt.title( stocksymbols[18] + ' Buy and Sell Signal by Bollinger Bands')\n",
        "plt.legend(loc = 'upper left')\n",
        "plt.show()"
      ],
      "metadata": {
        "id": "f5NTgYfepki4"
      },
      "execution_count": null,
      "outputs": []
    },
    {
      "cell_type": "code",
      "source": [
        "dai_data['Close'].plot(label = 'CLOSE PRICES', alpha = 0.3, figsize =(16,4))\n",
        "dai_data['upper_bb'].plot(label = 'UPPER BB', linestyle = '--', linewidth = 1, color = 'black')\n",
        "dai_data['sma_20'].plot(label = 'MIDDLE BB', linestyle = '--', linewidth = 1.2, color = 'violet')\n",
        "dai_data['lower_bb'].plot(label = 'LOWER BB', linestyle = '--', linewidth = 1, color = 'black')\n",
        "plt.scatter(dai_data.index, dai_data['buy_signal_bb'], marker = '^', color = 'green', label = 'BUY', s = 60)\n",
        "plt.scatter(dai_data.index, dai_data['sell_signal_bb'], marker = 'v', color = 'red', label = 'SELL', s = 60)\n",
        "plt.title( stocksymbols[19] + ' Buy and Sell Signal by Bollinger Bands')\n",
        "plt.legend(loc = 'upper left')\n",
        "plt.show()"
      ],
      "metadata": {
        "id": "XqlEdEEdptz6"
      },
      "execution_count": null,
      "outputs": []
    },
    {
      "cell_type": "code",
      "source": [
        "def get_diff(data):\n",
        "    ma = data.rolling(14).mean()\n",
        "    di = ((data - ma) / ma) * 100\n",
        "    return di"
      ],
      "metadata": {
        "id": "NR0vGMH_BDGR"
      },
      "execution_count": 17,
      "outputs": []
    },
    {
      "cell_type": "code",
      "source": [
        "btc_data['disparity'] = get_diff(btc_data['Close'])\n",
        "eth_data['disparity'] = get_diff(eth_data['Close'])\n",
        "bnb_data['disparity'] = get_diff(bnb_data['Close'])\n",
        "usdt_data['disparity'] = get_diff(usdt_data['Close'])\n",
        "sol_data['disparity'] = get_diff(sol_data['Close'])\n",
        "hex_data['disparity'] = get_diff(hex_data['Close'])\n",
        "ada_data['disparity'] = get_diff(ada_data['Close'])\n",
        "xrp_data['disparity'] = get_diff(xrp_data['Close'])\n",
        "usdc_data['disparity'] = get_diff(usdc_data['Close'])\n",
        "luna1_data['disparity'] = get_diff(luna1_data['Close'])\n",
        "avax_data['disparity'] = get_diff(avax_data['Close'])\n",
        "dot_data['disparity'] = get_diff(dot_data['Close'])\n",
        "doge_data['disparity'] = get_diff(doge_data['Close'])\n",
        "shib_data['disparity'] = get_diff(shib_data['Close'])\n",
        "matic_data['disparity'] = get_diff(matic_data['Close'])\n",
        "ltc_data['disparity'] = get_diff(ltc_data['Close'])\n",
        "link_data['disparity'] = get_diff(link_data['Close'])\n",
        "algo_data['disparity'] = get_diff(algo_data['Close'])\n",
        "uni_data['disparity'] = get_diff(uni_data['Close'])\n",
        "dai_data['disparity'] = get_diff(dai_data['Close'])"
      ],
      "metadata": {
        "id": "aYk8WTRQbCCr"
      },
      "execution_count": 251,
      "outputs": []
    },
    {
      "cell_type": "code",
      "source": [
        "def buy_sell_disparity(data):\n",
        "    signalBuy = []\n",
        "    signalSell = []\n",
        "    position = False \n",
        "\n",
        "    for i in range(len(data)):\n",
        "        if data['disparity'][i] > 0:\n",
        "            if position == False :\n",
        "                signalBuy.append(data['Close'][i])\n",
        "                signalSell.append(np.nan)\n",
        "                position = True\n",
        "            else:\n",
        "                signalBuy.append(np.nan)\n",
        "                signalSell.append(np.nan)\n",
        "        elif data['disparity'][i] < 0:\n",
        "            if position == True:\n",
        "                signalBuy.append(np.nan)\n",
        "                signalSell.append(data['Close'][i])\n",
        "                position = False\n",
        "            else:\n",
        "                signalBuy.append(np.nan)\n",
        "                signalSell.append(np.nan)\n",
        "        else:\n",
        "            signalBuy.append(np.nan)\n",
        "            signalSell.append(np.nan)\n",
        "    return pd.Series([signalBuy, signalSell])"
      ],
      "metadata": {
        "id": "rhNU5B-2bv37"
      },
      "execution_count": 252,
      "outputs": []
    },
    {
      "cell_type": "code",
      "source": [
        "btc_data['Buy_disparity'], btc_data['Sell_disparity'] = buy_sell_disparity(btc_data)\n",
        "eth_data['Buy_disparity'], eth_data['Sell_disparity'] = buy_sell_disparity(eth_data)\n",
        "bnb_data['Buy_disparity'], bnb_data['Sell_disparity'] = buy_sell_disparity(bnb_data)\n",
        "usdt_data['Buy_disparity'], usdt_data['Sell_disparity'] = buy_sell_disparity(usdt_data)\n",
        "sol_data['Buy_disparity'], sol_data['Sell_disparity'] = buy_sell_disparity(sol_data)\n",
        "hex_data['Buy_disparity'], hex_data['Sell_disparity'] = buy_sell_disparity(hex_data)\n",
        "ada_data['Buy_disparity'], ada_data['Sell_disparity'] = buy_sell_disparity(ada_data)\n",
        "xrp_data['Buy_disparity'], xrp_data['Sell_disparity'] = buy_sell_disparity(xrp_data)\n",
        "usdc_data['Buy_disparity'], usdc_data['Sell_disparity'] = buy_sell_disparity(usdc_data)\n",
        "luna1_data['Buy_disparity'], luna1_data['Sell_disparity'] = buy_sell_disparity(luna1_data)\n",
        "avax_data['Buy_disparity'], avax_data['Sell_disparity'] = buy_sell_disparity(avax_data)\n",
        "dot_data['Buy_disparity'], dot_data['Sell_disparity'] = buy_sell_disparity(dot_data)\n",
        "doge_data['Buy_disparity'], doge_data['Sell_disparity'] = buy_sell_disparity(doge_data)\n",
        "shib_data['Buy_disparity'], shib_data['Sell_disparity'] = buy_sell_disparity(shib_data)\n",
        "matic_data['Buy_disparity'], matic_data['Sell_disparity'] = buy_sell_disparity(matic_data)\n",
        "ltc_data['Buy_disparity'], ltc_data['Sell_disparity'] = buy_sell_disparity(ltc_data)\n",
        "link_data['Buy_disparity'], link_data['Sell_disparity'] = buy_sell_disparity(link_data)\n",
        "algo_data['Buy_disparity'], algo_data['Sell_disparity'] = buy_sell_disparity(algo_data)\n",
        "uni_data['Buy_disparity'], uni_data['Sell_disparity'] = buy_sell_disparity(uni_data)\n",
        "dai_data['Buy_disparity'], dai_data['Sell_disparity'] = buy_sell_disparity(dai_data)"
      ],
      "metadata": {
        "id": "RZbzX61NcnWJ"
      },
      "execution_count": 253,
      "outputs": []
    },
    {
      "cell_type": "code",
      "source": [
        "fig, ax = plt.subplots(figsize=(16,6))\n",
        "plt.plot(btc_data['Close'], label = 'Close price', alpha = 0.35, color ='violet')\n",
        "ax.scatter(btc_data.index , btc_data['Buy_disparity'] , label = 'Buy' , marker = '^', color = 'green',alpha =1 )\n",
        "ax.scatter(btc_data.index , btc_data['Sell_disparity'] , label = 'Sell' , marker = 'v', color = 'red',alpha =1 )\n",
        "ax.set_title(stocksymbols[0] + \" Price History with buy and sell signals\",fontsize=10, backgroundcolor='blue', color='white')\n",
        "ax.set_xlabel(f'{startdate} - {end_date}' ,fontsize=18)\n",
        "legend = ax.legend()\n",
        "ax.grid()\n",
        "plt.tight_layout()\n",
        "plt.show()"
      ],
      "metadata": {
        "id": "DBbC4I81c4G9"
      },
      "execution_count": null,
      "outputs": []
    },
    {
      "cell_type": "code",
      "source": [
        "fig, ax = plt.subplots(figsize=(16,6))\n",
        "plt.plot(eth_data['Close'], label = 'Close price', alpha = 0.35, color ='violet')\n",
        "ax.scatter(eth_data.index , eth_data['Buy_disparity'] , label = 'Buy' , marker = '^', color = 'green',alpha =1 )\n",
        "ax.scatter(eth_data.index , eth_data['Sell_disparity'] , label = 'Sell' , marker = 'v', color = 'red',alpha =1 )\n",
        "ax.set_title(stocksymbols[1] + \" Price History with buy and sell signals\",fontsize=10, backgroundcolor='blue', color='white')\n",
        "ax.set_xlabel(f'{startdate} - {end_date}' ,fontsize=18)\n",
        "legend = ax.legend()\n",
        "ax.grid()\n",
        "plt.tight_layout()\n",
        "plt.show()"
      ],
      "metadata": {
        "id": "md448C45sW9m"
      },
      "execution_count": null,
      "outputs": []
    },
    {
      "cell_type": "code",
      "source": [
        "fig, ax = plt.subplots(figsize=(16,6))\n",
        "plt.plot(bnb_data['Close'], label = 'Close price', alpha = 0.35, color ='violet')\n",
        "ax.scatter(bnb_data.index , bnb_data['Buy_disparity'] , label = 'Buy' , marker = '^', color = 'green',alpha =1 )\n",
        "ax.scatter(bnb_data.index , bnb_data['Sell_disparity'] , label = 'Sell' , marker = 'v', color = 'red',alpha =1 )\n",
        "ax.set_title(stocksymbols[2] + \" Price History with buy and sell signals\",fontsize=10, backgroundcolor='blue', color='white')\n",
        "ax.set_xlabel(f'{startdate} - {end_date}' ,fontsize=18)\n",
        "legend = ax.legend()\n",
        "ax.grid()\n",
        "plt.tight_layout()\n",
        "plt.show()"
      ],
      "metadata": {
        "id": "BuKNAItGseoI"
      },
      "execution_count": null,
      "outputs": []
    },
    {
      "cell_type": "code",
      "source": [
        "fig, ax = plt.subplots(figsize=(16,6))\n",
        "plt.plot(usdt_data['Close'], label = 'Close price', alpha = 0.35, color ='violet')\n",
        "ax.scatter(usdt_data.index , usdt_data['Buy_disparity'] , label = 'Buy' , marker = '^', color = 'green',alpha =1 )\n",
        "ax.scatter(usdt_data.index , usdt_data['Sell_disparity'] , label = 'Sell' , marker = 'v', color = 'red',alpha =1 )\n",
        "ax.set_title(stocksymbols[3] + \" Price History with buy and sell signals\",fontsize=10, backgroundcolor='blue', color='white')\n",
        "ax.set_xlabel(f'{startdate} - {end_date}' ,fontsize=18)\n",
        "legend = ax.legend()\n",
        "ax.grid()\n",
        "plt.tight_layout()\n",
        "plt.show()"
      ],
      "metadata": {
        "id": "83PISEbisop3"
      },
      "execution_count": null,
      "outputs": []
    },
    {
      "cell_type": "code",
      "source": [
        "fig, ax = plt.subplots(figsize=(16,6))\n",
        "plt.plot(sol_data['Close'], label = 'Close price', alpha = 0.35, color ='violet')\n",
        "ax.scatter(sol_data.index , sol_data['Buy_disparity'] , label = 'Buy' , marker = '^', color = 'green',alpha =1 )\n",
        "ax.scatter(sol_data.index , sol_data['Sell_disparity'] , label = 'Sell' , marker = 'v', color = 'red',alpha =1 )\n",
        "ax.set_title(stocksymbols[4] + \" Price History with buy and sell signals\",fontsize=10, backgroundcolor='blue', color='white')\n",
        "ax.set_xlabel(f'{startdate} - {end_date}' ,fontsize=18)\n",
        "legend = ax.legend()\n",
        "ax.grid()\n",
        "plt.tight_layout()\n",
        "plt.show()"
      ],
      "metadata": {
        "id": "ZbyGMb8osvu3"
      },
      "execution_count": null,
      "outputs": []
    },
    {
      "cell_type": "code",
      "source": [
        "fig, ax = plt.subplots(figsize=(16,6))\n",
        "plt.plot(hex_data['Close'], label = 'Close price', alpha = 0.35, color ='violet')\n",
        "ax.scatter(hex_data.index , hex_data['Buy_disparity'] , label = 'Buy' , marker = '^', color = 'green',alpha =1 )\n",
        "ax.scatter(hex_data.index , hex_data['Sell_disparity'] , label = 'Sell' , marker = 'v', color = 'red',alpha =1 )\n",
        "ax.set_title(stocksymbols[5] + \" Price History with buy and sell signals\",fontsize=10, backgroundcolor='blue', color='white')\n",
        "ax.set_xlabel(f'{startdate} - {end_date}' ,fontsize=18)\n",
        "legend = ax.legend()\n",
        "ax.grid()\n",
        "plt.tight_layout()\n",
        "plt.show()"
      ],
      "metadata": {
        "id": "vGCIsm6NtHzp"
      },
      "execution_count": null,
      "outputs": []
    },
    {
      "cell_type": "code",
      "source": [
        "fig, ax = plt.subplots(figsize=(16,6))\n",
        "plt.plot(ada_data['Close'], label = 'Close price', alpha = 0.35, color ='violet')\n",
        "ax.scatter(ada_data.index , ada_data['Buy_disparity'] , label = 'Buy' , marker = '^', color = 'green',alpha =1 )\n",
        "ax.scatter(ada_data.index , ada_data['Sell_disparity'] , label = 'Sell' , marker = 'v', color = 'red',alpha =1 )\n",
        "ax.set_title(stocksymbols[6] + \" Price History with buy and sell signals\",fontsize=10, backgroundcolor='blue', color='white')\n",
        "ax.set_xlabel(f'{startdate} - {end_date}' ,fontsize=18)\n",
        "legend = ax.legend()\n",
        "ax.grid()\n",
        "plt.tight_layout()\n",
        "plt.show()"
      ],
      "metadata": {
        "id": "IZ_ekR7BtRrJ"
      },
      "execution_count": null,
      "outputs": []
    },
    {
      "cell_type": "code",
      "source": [
        "fig, ax = plt.subplots(figsize=(16,6))\n",
        "plt.plot(xrp_data['Close'], label = 'Close price', alpha = 0.35, color ='violet')\n",
        "ax.scatter(xrp_data.index , xrp_data['Buy_disparity'] , label = 'Buy' , marker = '^', color = 'green',alpha =1 )\n",
        "ax.scatter(xrp_data.index , xrp_data['Sell_disparity'] , label = 'Sell' , marker = 'v', color = 'red',alpha =1 )\n",
        "ax.set_title(stocksymbols[7] + \" Price History with buy and sell signals\",fontsize=10, backgroundcolor='blue', color='white')\n",
        "ax.set_xlabel(f'{startdate} - {end_date}' ,fontsize=18)\n",
        "legend = ax.legend()\n",
        "ax.grid()\n",
        "plt.tight_layout()\n",
        "plt.show()"
      ],
      "metadata": {
        "id": "c40t2TXAtoi5"
      },
      "execution_count": null,
      "outputs": []
    },
    {
      "cell_type": "code",
      "source": [
        "fig, ax = plt.subplots(figsize=(16,6))\n",
        "plt.plot(usdc_data['Close'], label = 'Close price', alpha = 0.35, color ='violet')\n",
        "ax.scatter(usdc_data.index , usdc_data['Buy_disparity'] , label = 'Buy' , marker = '^', color = 'green',alpha =1 )\n",
        "ax.scatter(usdc_data.index , usdc_data['Sell_disparity'] , label = 'Sell' , marker = 'v', color = 'red',alpha =1 )\n",
        "ax.set_title(stocksymbols[8] + \" Price History with buy and sell signals\",fontsize=10, backgroundcolor='blue', color='white')\n",
        "ax.set_xlabel(f'{startdate} - {end_date}' ,fontsize=18)\n",
        "legend = ax.legend()\n",
        "ax.grid()\n",
        "plt.tight_layout()\n",
        "plt.show()"
      ],
      "metadata": {
        "id": "DtVj2gBStvgV"
      },
      "execution_count": null,
      "outputs": []
    },
    {
      "cell_type": "code",
      "source": [
        "fig, ax = plt.subplots(figsize=(16,6))\n",
        "plt.plot(luna1_data['Close'], label = 'Close price', alpha = 0.35, color ='violet')\n",
        "ax.scatter(luna1_data.index , luna1_data['Buy_disparity'] , label = 'Buy' , marker = '^', color = 'green',alpha =1 )\n",
        "ax.scatter(luna1_data.index , luna1_data['Sell_disparity'] , label = 'Sell' , marker = 'v', color = 'red',alpha =1 )\n",
        "ax.set_title(stocksymbols[9] + \" Price History with buy and sell signals\",fontsize=10, backgroundcolor='blue', color='white')\n",
        "ax.set_xlabel(f'{startdate} - {end_date}' ,fontsize=18)\n",
        "legend = ax.legend()\n",
        "ax.grid()\n",
        "plt.tight_layout()\n",
        "plt.show()"
      ],
      "metadata": {
        "id": "TgVKWaxBu756"
      },
      "execution_count": null,
      "outputs": []
    },
    {
      "cell_type": "code",
      "source": [
        "fig, ax = plt.subplots(figsize=(16,6))\n",
        "plt.plot(avax_data['Close'], label = 'Close price', alpha = 0.35, color ='violet')\n",
        "ax.scatter(avax_data.index , avax_data['Buy_disparity'] , label = 'Buy' , marker = '^', color = 'green',alpha =1 )\n",
        "ax.scatter(avax_data.index , avax_data['Sell_disparity'] , label = 'Sell' , marker = 'v', color = 'red',alpha =1 )\n",
        "ax.set_title(stocksymbols[10] + \" Price History with buy and sell signals\",fontsize=10, backgroundcolor='blue', color='white')\n",
        "ax.set_xlabel(f'{startdate} - {end_date}' ,fontsize=18)\n",
        "legend = ax.legend()\n",
        "ax.grid()\n",
        "plt.tight_layout()\n",
        "plt.show()"
      ],
      "metadata": {
        "id": "2cDIOxt_vESl"
      },
      "execution_count": null,
      "outputs": []
    },
    {
      "cell_type": "code",
      "source": [
        "fig, ax = plt.subplots(figsize=(16,6))\n",
        "plt.plot(dot_data['Close'], label = 'Close price', alpha = 0.35, color ='violet')\n",
        "ax.scatter(dot_data.index , dot_data['Buy_disparity'] , label = 'Buy' , marker = '^', color = 'green',alpha =1 )\n",
        "ax.scatter(dot_data.index , dot_data['Sell_disparity'] , label = 'Sell' , marker = 'v', color = 'red',alpha =1 )\n",
        "ax.set_title(stocksymbols[11] + \" Price History with buy and sell signals\",fontsize=10, backgroundcolor='blue', color='white')\n",
        "ax.set_xlabel(f'{startdate} - {end_date}' ,fontsize=18)\n",
        "legend = ax.legend()\n",
        "ax.grid()\n",
        "plt.tight_layout()\n",
        "plt.show()"
      ],
      "metadata": {
        "id": "Q0Q9-1AWvNoA"
      },
      "execution_count": null,
      "outputs": []
    },
    {
      "cell_type": "code",
      "source": [
        "fig, ax = plt.subplots(figsize=(16,6))\n",
        "plt.plot(doge_data['Close'], label = 'Close price', alpha = 0.35, color ='violet')\n",
        "ax.scatter(doge_data.index , doge_data['Buy_disparity'] , label = 'Buy' , marker = '^', color = 'green',alpha =1 )\n",
        "ax.scatter(doge_data.index , doge_data['Sell_disparity'] , label = 'Sell' , marker = 'v', color = 'red',alpha =1 )\n",
        "ax.set_title(stocksymbols[12] + \" Price History with buy and sell signals\",fontsize=10, backgroundcolor='blue', color='white')\n",
        "ax.set_xlabel(f'{startdate} - {end_date}' ,fontsize=18)\n",
        "legend = ax.legend()\n",
        "ax.grid()\n",
        "plt.tight_layout()\n",
        "plt.show()"
      ],
      "metadata": {
        "id": "gkYwp0rovXOC"
      },
      "execution_count": null,
      "outputs": []
    },
    {
      "cell_type": "code",
      "source": [
        "fig, ax = plt.subplots(figsize=(16,6))\n",
        "plt.plot(shib_data['Close'], label = 'Close price', alpha = 0.35, color ='violet')\n",
        "ax.scatter(shib_data.index , shib_data['Buy_disparity'] , label = 'Buy' , marker = '^', color = 'green',alpha =1 )\n",
        "ax.scatter(shib_data.index , shib_data['Sell_disparity'] , label = 'Sell' , marker = 'v', color = 'red',alpha =1 )\n",
        "ax.set_title(stocksymbols[13] + \" Price History with buy and sell signals\",fontsize=10, backgroundcolor='blue', color='white')\n",
        "ax.set_xlabel(f'{startdate} - {end_date}' ,fontsize=18)\n",
        "legend = ax.legend()\n",
        "ax.grid()\n",
        "plt.tight_layout()\n",
        "plt.show()"
      ],
      "metadata": {
        "id": "fJCrgtptvfoB"
      },
      "execution_count": null,
      "outputs": []
    },
    {
      "cell_type": "code",
      "source": [
        "fig, ax = plt.subplots(figsize=(16,6))\n",
        "plt.plot(matic_data['Close'], label = 'Close price', alpha = 0.35, color ='violet')\n",
        "ax.scatter(matic_data.index , matic_data['Buy_disparity'] , label = 'Buy' , marker = '^', color = 'green',alpha =1 )\n",
        "ax.scatter(matic_data.index , matic_data['Sell_disparity'] , label = 'Sell' , marker = 'v', color = 'red',alpha =1 )\n",
        "ax.set_title(stocksymbols[14] + \" Price History with buy and sell signals\",fontsize=10, backgroundcolor='blue', color='white')\n",
        "ax.set_xlabel(f'{startdate} - {end_date}' ,fontsize=18)\n",
        "legend = ax.legend()\n",
        "ax.grid()\n",
        "plt.tight_layout()\n",
        "plt.show()"
      ],
      "metadata": {
        "id": "crHKLfGzvmvg"
      },
      "execution_count": null,
      "outputs": []
    },
    {
      "cell_type": "code",
      "source": [
        "fig, ax = plt.subplots(figsize=(16,6))\n",
        "plt.plot(ltc_data['Close'], label = 'Close price', alpha = 0.35, color ='violet')\n",
        "ax.scatter(ltc_data.index , ltc_data['Buy_disparity'] , label = 'Buy' , marker = '^', color = 'green',alpha =1 )\n",
        "ax.scatter(ltc_data.index , ltc_data['Sell_disparity'] , label = 'Sell' , marker = 'v', color = 'red',alpha =1 )\n",
        "ax.set_title(stocksymbols[15] + \" Price History with buy and sell signals\",fontsize=10, backgroundcolor='blue', color='white')\n",
        "ax.set_xlabel(f'{startdate} - {end_date}' ,fontsize=18)\n",
        "legend = ax.legend()\n",
        "ax.grid()\n",
        "plt.tight_layout()\n",
        "plt.show()"
      ],
      "metadata": {
        "id": "4M29tPOhvyNR"
      },
      "execution_count": null,
      "outputs": []
    },
    {
      "cell_type": "code",
      "source": [
        "fig, ax = plt.subplots(figsize=(16,6))\n",
        "plt.plot(link_data['Close'], label = 'Close price', alpha = 0.35, color ='violet')\n",
        "ax.scatter(link_data.index , link_data['Buy_disparity'] , label = 'Buy' , marker = '^', color = 'green',alpha =1 )\n",
        "ax.scatter(link_data.index , link_data['Sell_disparity'] , label = 'Sell' , marker = 'v', color = 'red',alpha =1 )\n",
        "ax.set_title(stocksymbols[16] + \" Price History with buy and sell signals\",fontsize=10, backgroundcolor='blue', color='white')\n",
        "ax.set_xlabel(f'{startdate} - {end_date}' ,fontsize=18)\n",
        "legend = ax.legend()\n",
        "ax.grid()\n",
        "plt.tight_layout()\n",
        "plt.show()"
      ],
      "metadata": {
        "id": "nc0Cj6Wdv5G_"
      },
      "execution_count": null,
      "outputs": []
    },
    {
      "cell_type": "code",
      "source": [
        "fig, ax = plt.subplots(figsize=(16,6))\n",
        "plt.plot(algo_data['Close'], label = 'Close price', alpha = 0.35, color ='violet')\n",
        "ax.scatter(algo_data.index , algo_data['Buy_disparity'] , label = 'Buy' , marker = '^', color = 'green',alpha =1 )\n",
        "ax.scatter(algo_data.index , algo_data['Sell_disparity'] , label = 'Sell' , marker = 'v', color = 'red',alpha =1 )\n",
        "ax.set_title(stocksymbols[17] + \" Price History with buy and sell signals\",fontsize=10, backgroundcolor='blue', color='white')\n",
        "ax.set_xlabel(f'{startdate} - {end_date}' ,fontsize=18)\n",
        "legend = ax.legend()\n",
        "ax.grid()\n",
        "plt.tight_layout()\n",
        "plt.show()"
      ],
      "metadata": {
        "id": "ay704a1wwByx"
      },
      "execution_count": null,
      "outputs": []
    },
    {
      "cell_type": "code",
      "source": [
        "fig, ax = plt.subplots(figsize=(16,6))\n",
        "plt.plot(uni_data['Close'], label = 'Close price', alpha = 0.35, color ='violet')\n",
        "ax.scatter(uni_data.index , uni_data['Buy_disparity'] , label = 'Buy' , marker = '^', color = 'green',alpha =1 )\n",
        "ax.scatter(uni_data.index , uni_data['Sell_disparity'] , label = 'Sell' , marker = 'v', color = 'red',alpha =1 )\n",
        "ax.set_title(stocksymbols[18] + \" Price History with buy and sell signals\",fontsize=10, backgroundcolor='blue', color='white')\n",
        "ax.set_xlabel(f'{startdate} - {end_date}' ,fontsize=18)\n",
        "legend = ax.legend()\n",
        "ax.grid()\n",
        "plt.tight_layout()\n",
        "plt.show()"
      ],
      "metadata": {
        "id": "TcEHz3xSwIcu"
      },
      "execution_count": null,
      "outputs": []
    },
    {
      "cell_type": "code",
      "source": [
        "fig, ax = plt.subplots(figsize=(16,6))\n",
        "plt.plot(dai_data['Close'], label = 'Close price', alpha = 0.35, color ='violet')\n",
        "ax.scatter(dai_data.index , dai_data['Buy_disparity'] , label = 'Buy' , marker = '^', color = 'green',alpha =1 )\n",
        "ax.scatter(dai_data.index , dai_data['Sell_disparity'] , label = 'Sell' , marker = 'v', color = 'red',alpha =1 )\n",
        "ax.set_title(stocksymbols[19] + \" Price History with buy and sell signals\",fontsize=10, backgroundcolor='blue', color='white')\n",
        "ax.set_xlabel(f'{startdate} - {end_date}' ,fontsize=18)\n",
        "legend = ax.legend()\n",
        "ax.grid()\n",
        "plt.tight_layout()\n",
        "plt.show()"
      ],
      "metadata": {
        "colab": {
          "base_uri": "https://localhost:8080/",
          "height": 333
        },
        "id": "0Bqz6QWXwQOY",
        "outputId": "e3765a00-f3e7-4463-a23e-ae66ae05f565"
      },
      "execution_count": 272,
      "outputs": [
        {
          "output_type": "display_data",
          "data": {
            "image/png": "[encoded data removed]",
            "text/plain": [
              "<Figure size 1152x432 with 1 Axes>"
            ]
          },
          "metadata": {
            "needs_background": "light"
          }
        }
      ]
    }
  ]
}